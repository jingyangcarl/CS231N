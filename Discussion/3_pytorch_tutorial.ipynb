{
 "cells": [
  {
   "cell_type": "code",
   "execution_count": null,
   "metadata": {},
   "outputs": [],
   "source": [
    "%matplotlib inline"
   ]
  },
  {
   "cell_type": "markdown",
   "metadata": {},
   "source": [
    "## PyTorch Basics\n",
    "### What is PyTorch?\n",
    "It is a **replacement for NumPy** to use the power of GPUs, and a **deep learning research platform** that provides maximum flexibility and speed ([source](https://pytorch.org/tutorials/beginner/blitz/tensor_tutorial.html#sphx-glr-beginner-blitz-tensor-tutorial-py)).\n",
    "\n",
    "You can create a [PyTorch tensor](https://pytorch.org/docs/stable/tensors.html) in a similary way that you create a NumPy ndarray:"
   ]
  },
  {
   "cell_type": "code",
   "execution_count": 1,
   "metadata": {},
   "outputs": [
    {
     "name": "stdout",
     "output_type": "stream",
     "text": "torch version: 1.4.0\n\nCreate a zero ndarray in NumPy:\n[[0. 0. 0.]\n [0. 0. 0.]]\n\nCreate a zero tensor in PyTorch:\ntensor([[0., 0., 0.],\n        [0., 0., 0.]])\n"
    }
   ],
   "source": [
    "import numpy as np\n",
    "import torch\n",
    "print(\"torch version:\", torch.__version__) # please use pytorch 1.0\n",
    "\n",
    "print('\\nCreate a zero ndarray in NumPy:')\n",
    "zero_np = np.zeros([2, 3])\n",
    "print(zero_np)\n",
    "print('\\nCreate a zero tensor in PyTorch:')\n",
    "zero_pt = torch.zeros([2,3])\n",
    "print(zero_pt)"
   ]
  },
  {
   "cell_type": "markdown",
   "metadata": {},
   "source": [
    "You can index into the tensor the same way you index a ndarray:"
   ]
  },
  {
   "cell_type": "code",
   "execution_count": 2,
   "metadata": {},
   "outputs": [
    {
     "name": "stdout",
     "output_type": "stream",
     "text": "numpy: zero_np[0,1]: 0.0\t(type: <class 'numpy.float64'>)\ntorch: zero_pt[0,1]: tensor(0.)\t(type: <class 'torch.Tensor'> / shape: torch.Size([]))\n       zero_pt[0,1].item(): 0.0\t(type: <class 'float'>)\n"
    }
   ],
   "source": [
    "print(\"numpy: zero_np[0,1]: {}\\t(type: {})\".format(str(zero_np[0,1]), type(zero_np[0,1])))\n",
    "print(\"torch: zero_pt[0,1]: {}\\t(type: {} / shape: {})\".format(str(zero_pt[0,1]), type(zero_pt[0,1]), zero_pt[0,1].shape))\n",
    "# Use \"item()\" to get a Python number from a single-valued tensor.\n",
    "print(\"       zero_pt[0,1].item(): {}\\t(type: {})\".format(zero_pt[0,1].item(), type(zero_pt[0,1].item())))"
   ]
  },
  {
   "cell_type": "markdown",
   "metadata": {},
   "source": [
    "A ndarray can be turned into a tensor, and vice versa:"
   ]
  },
  {
   "cell_type": "code",
   "execution_count": 3,
   "metadata": {},
   "outputs": [
    {
     "name": "stdout",
     "output_type": "stream",
     "text": "Turn a ndarray into a tensor with \"torch.tensor()\":\ntensor([[0., 0., 0.],\n        [0., 0., 0.]], dtype=torch.float64)\nor \"torch.from_numpy():\"\ntensor([[0., 0., 0.],\n        [0., 0., 0.]], dtype=torch.float64)\n\nTurn a tensor into ndarray with \".numpy()\":\n[[0. 0. 0.]\n [0. 0. 0.]]\n<class 'numpy.ndarray'>\n"
    }
   ],
   "source": [
    "print('Turn a ndarray into a tensor with \"torch.tensor()\":')\n",
    "zero_pt_from_np = torch.tensor(zero_np)\n",
    "print(zero_pt_from_np)\n",
    "print('or \"torch.from_numpy():\"')\n",
    "zero_pt_from_np = torch.from_numpy(zero_np)\n",
    "print(zero_pt_from_np)\n",
    "\n",
    "print('\\nTurn a tensor into ndarray with \".numpy()\":')\n",
    "zero_np_from_pt = zero_pt.numpy()\n",
    "print(zero_np_from_pt)\n",
    "print(type(zero_np_from_pt))"
   ]
  },
  {
   "cell_type": "markdown",
   "metadata": {},
   "source": [
    "The design of PyTorch allows it to better utilize GPUs. Upon creation, a PyTorch tensor resides on the CPU. You can move a tensor across devices using `.to()`:"
   ]
  },
  {
   "cell_type": "code",
   "execution_count": 4,
   "metadata": {},
   "outputs": [
    {
     "name": "stdout",
     "output_type": "stream",
     "text": "Initial device:\t'cpu'\n"
    }
   ],
   "source": [
    "t = torch.randn(2)\n",
    "print(\"Initial device:\\t'{}'\".format(t.device))"
   ]
  },
  {
   "cell_type": "code",
   "execution_count": 5,
   "metadata": {},
   "outputs": [
    {
     "name": "stdout",
     "output_type": "stream",
     "text": "Move to gpu:\t'cuda:0'\n"
    }
   ],
   "source": [
    "t = t.to('cuda:0')\n",
    "print(\"Move to gpu:\\t'{}'\".format(t.device))"
   ]
  },
  {
   "cell_type": "code",
   "execution_count": 6,
   "metadata": {},
   "outputs": [
    {
     "name": "stdout",
     "output_type": "stream",
     "text": "Back to cpu:\t'cpu'\n"
    },
    {
     "data": {
      "text/plain": "array([-0.4303402 ,  0.10219397], dtype=float32)"
     },
     "execution_count": 6,
     "metadata": {},
     "output_type": "execute_result"
    }
   ],
   "source": [
    "t = t.to('cpu')\n",
    "print(\"Back to cpu:\\t'{}'\".format(t.device))\n",
    "# Why bother?\n",
    "t.numpy()"
   ]
  },
  {
   "cell_type": "markdown",
   "metadata": {},
   "source": [
    "\n",
    "Training an MNIST Classifier\n",
    "=====\n",
    "## Custom Dataset, Model Checkpointing, and Fine-tune"
   ]
  },
  {
   "cell_type": "code",
   "execution_count": 7,
   "metadata": {},
   "outputs": [],
   "source": [
    "import torch.nn as nn            # containing various building blocks for your neural networks\n",
    "import torch.optim as optim      # implementing various optimization algorithms\n",
    "import torch.nn.functional as F  # a lower level (compared to torch.nn) interface\n",
    "\n",
    "# torchvision: popular datasets, model architectures, and common image transformations for computer vision.\n",
    "import torchvision\n",
    "# transforms: transformations useful for image processing\n",
    "import torchvision.transforms as transforms\n",
    "\n",
    "from torch.utils.data import Dataset, DataLoader\n",
    "\n",
    "import glob\n",
    "import os.path as osp\n",
    "import numpy as np\n",
    "from PIL import Image"
   ]
  },
  {
   "cell_type": "markdown",
   "metadata": {},
   "source": [
    "## 1. Custom Dataset\n",
    "PyTorch has many built-in datasets such as MNIST and CIFAR. In this tutorial, we demonstrate how to write your own dataset by implementing a custom MNIST dataset class. Use [this link](https://github.com/myleott/mnist_png/blob/master/mnist_png.tar.gz?raw=true) to download the mnist png dataset.\n",
    "\n",
    "If you are on GCloud, you can run these commands:\n",
    "\n",
    "`wget https://github.com/myleott/mnist_png/blob/master/mnist_png.tar.gz?raw=true`\n",
    "\n",
    "`mv mnist_png.tar.gz?raw=true mnist_png.tar.gz`\n",
    "\n",
    "`tar -xzf mnist_png.tar.gz`"
   ]
  },
  {
   "cell_type": "code",
   "execution_count": 8,
   "metadata": {},
   "outputs": [],
   "source": [
    "class MNIST(Dataset):\n",
    "    \"\"\"\n",
    "    A customized data loader for MNIST.\n",
    "    \"\"\"\n",
    "    def __init__(self,\n",
    "                 root,\n",
    "                 transform=None,\n",
    "                 preload=False):\n",
    "        \"\"\" Intialize the MNIST dataset\n",
    "        \n",
    "        Args:\n",
    "            - root: root directory of the dataset\n",
    "            - tranform: a custom tranform function\n",
    "            - preload: if preload the dataset into memory\n",
    "        \"\"\"\n",
    "        self.images = None\n",
    "        self.labels = None\n",
    "        self.filenames = []\n",
    "        self.root = root\n",
    "        self.transform = transform\n",
    "\n",
    "        # read filenames\n",
    "        for i in range(10):\n",
    "            filenames = glob.glob(osp.join(root, str(i), '*.png'))\n",
    "            for fn in filenames:\n",
    "                self.filenames.append((fn, i)) # (filename, label) pair\n",
    "                \n",
    "        # if preload dataset into memory\n",
    "        if preload:\n",
    "            self._preload()\n",
    "            \n",
    "        self.len = len(self.filenames)\n",
    "                              \n",
    "    def _preload(self):\n",
    "        \"\"\"\n",
    "        Preload dataset to memory\n",
    "        \"\"\"\n",
    "        self.labels = []\n",
    "        self.images = []\n",
    "        for image_fn, label in self.filenames:            \n",
    "            # load images\n",
    "            image = Image.open(image_fn)\n",
    "            self.images.append(image.copy())\n",
    "            # avoid too many opened files bug\n",
    "            image.close()\n",
    "            self.labels.append(label)\n",
    "\n",
    "    # probably the most important to customize.\n",
    "    def __getitem__(self, index):\n",
    "        \"\"\" Get a sample from the dataset\n",
    "        \"\"\"\n",
    "        if self.images is not None:\n",
    "            # If dataset is preloaded\n",
    "            image = self.images[index]\n",
    "            label = self.labels[index]\n",
    "        else:\n",
    "            # If on-demand data loading\n",
    "            image_fn, label = self.filenames[index]\n",
    "            image = Image.open(image_fn)\n",
    "            \n",
    "        # May use transform function to transform samples\n",
    "        # e.g., random crop, whitening\n",
    "        if self.transform is not None:\n",
    "            image = self.transform(image)\n",
    "        # return image and label\n",
    "        return image, label\n",
    "\n",
    "    def __len__(self):\n",
    "        \"\"\"\n",
    "        Total number of samples in the dataset\n",
    "        \"\"\"\n",
    "        return self.len"
   ]
  },
  {
   "cell_type": "code",
   "execution_count": 10,
   "metadata": {},
   "outputs": [],
   "source": [
    "# Create the MNIST dataset. \n",
    "# transforms.ToTensor() automatically converts PIL images to\n",
    "# torch tensors with range [0, 1]\n",
    "trainset = MNIST(\n",
    "    root='mnist_png/training',\n",
    "    preload=True, transform=transforms.ToTensor(),\n",
    ")\n",
    "\n",
    "# Use the torch dataloader to iterate through the dataset\n",
    "# We want the dataset to be shuffled during training.\n",
    "trainset_loader = DataLoader(trainset, batch_size=64, shuffle=True, num_workers=1)\n",
    "\n",
    "# Load the testset\n",
    "testset = MNIST(\n",
    "    root='mnist_png/testing',\n",
    "    preload=True, transform=transforms.ToTensor(),\n",
    ")\n",
    "# Use the torch dataloader to iterate through the dataset\n",
    "testset_loader = DataLoader(testset, batch_size=1000, shuffle=False, num_workers=1)"
   ]
  },
  {
   "cell_type": "code",
   "execution_count": 11,
   "metadata": {},
   "outputs": [
    {
     "name": "stdout",
     "output_type": "stream",
     "text": "60000\n10000\n"
    }
   ],
   "source": [
    "print(len(trainset)) # len = 60000\n",
    "print(len(testset))  # len = 10000"
   ]
  },
  {
   "cell_type": "markdown",
   "metadata": {},
   "source": [
    "### Visualize the dataset"
   ]
  },
  {
   "cell_type": "code",
   "execution_count": 13,
   "metadata": {},
   "outputs": [
    {
     "name": "stdout",
     "output_type": "stream",
     "text": "tensor(6) tensor(9) tensor(5) tensor(1) tensor(3) tensor(5) tensor(0) tensor(3) tensor(7) tensor(8) tensor(5) tensor(5) tensor(2) tensor(2) tensor(6) tensor(6)\n"
    },
    {
     "data": {
      "image/png": "[encoded data removed]",
      "image/svg+xml": "<?xml version=\"1.0\" encoding=\"utf-8\" standalone=\"no\"?>\n<!DOCTYPE svg PUBLIC \"-//W3C//DTD SVG 1.1//EN\"\n  \"http://www.w3.org/Graphics/SVG/1.1/DTD/svg11.dtd\">\n<!-- Created with matplotlib (https://matplotlib.org/) -->\n<svg height=\"251.868088pt\" version=\"1.1\" viewBox=\"0 0 257.9275 251.868088\" width=\"257.9275pt\" xmlns=\"http://www.w3.org/2000/svg\" xmlns:xlink=\"http://www.w3.org/1999/xlink\">\n <defs>\n  <style type=\"text/css\">\n*{stroke-linecap:butt;stroke-linejoin:round;}\n  </style>\n </defs>\n <g id=\"figure_1\">\n  <g id=\"patch_1\">\n   <path d=\"M 0 251.868088 \nL 257.9275 251.868088 \nL 257.9275 0 \nL 0 0 \nz\n\" style=\"fill:none;\"/>\n  </g>\n  <g id=\"axes_1\">\n   <g id=\"patch_2\">\n    <path d=\"M 33.2875 227.989963 \nL 250.7275 227.989963 \nL 250.7275 10.549963 \nL 33.2875 10.549963 \nz\n\" style=\"fill:#ffffff;\"/>\n   </g>\n   <g clip-path=\"url(#p8d420cce0d)\">\n    <image height=\"218\" id=\"image381c8bc14f\" transform=\"scale(1 -1)translate(0 -218)\" width=\"218\" x=\"33.2875\" xlink:href=\"data:image/png;base64,\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\" y=\"-9.989963\"/>\n   </g>\n   <g id=\"matplotlib.axis_1\">\n    <g id=\"xtick_1\">\n     <g id=\"line2d_1\">\n      <defs>\n       <path d=\"M 0 0 \nL 0 3.5 \n\" id=\"m2c06c9389d\" style=\"stroke:#000000;stroke-width:0.8;\"/>\n      </defs>\n      <g>\n       <use style=\"stroke:#000000;stroke-width:0.8;\" x=\"33.736756\" xlink:href=\"#m2c06c9389d\" y=\"227.989963\"/>\n      </g>\n     </g>\n     <g id=\"text_1\">\n      <!-- 0 -->\n      <defs>\n       <path d=\"M 31.78125 66.40625 \nQ 24.171875 66.40625 20.328125 58.90625 \nQ 16.5 51.421875 16.5 36.375 \nQ 16.5 21.390625 20.328125 13.890625 \nQ 24.171875 6.390625 31.78125 6.390625 \nQ 39.453125 6.390625 43.28125 13.890625 \nQ 47.125 21.390625 47.125 36.375 \nQ 47.125 51.421875 43.28125 58.90625 \nQ 39.453125 66.40625 31.78125 66.40625 \nz\nM 31.78125 74.21875 \nQ 44.046875 74.21875 50.515625 64.515625 \nQ 56.984375 54.828125 56.984375 36.375 \nQ 56.984375 17.96875 50.515625 8.265625 \nQ 44.046875 -1.421875 31.78125 -1.421875 \nQ 19.53125 -1.421875 13.0625 8.265625 \nQ 6.59375 17.96875 6.59375 36.375 \nQ 6.59375 54.828125 13.0625 64.515625 \nQ 19.53125 74.21875 31.78125 74.21875 \nz\n\" id=\"DejaVuSans-48\"/>\n      </defs>\n      <g transform=\"translate(30.555506 242.5884)scale(0.1 -0.1)\">\n       <use xlink:href=\"#DejaVuSans-48\"/>\n      </g>\n     </g>\n    </g>\n    <g id=\"xtick_2\">\n     <g id=\"line2d_2\">\n      <g>\n       <use style=\"stroke:#000000;stroke-width:0.8;\" x=\"78.662376\" xlink:href=\"#m2c06c9389d\" y=\"227.989963\"/>\n      </g>\n     </g>\n     <g id=\"text_2\">\n      <!-- 50 -->\n      <defs>\n       <path d=\"M 10.796875 72.90625 \nL 49.515625 72.90625 \nL 49.515625 64.59375 \nL 19.828125 64.59375 \nL 19.828125 46.734375 \nQ 21.96875 47.46875 24.109375 47.828125 \nQ 26.265625 48.1875 28.421875 48.1875 \nQ 40.625 48.1875 47.75 41.5 \nQ 54.890625 34.8125 54.890625 23.390625 \nQ 54.890625 11.625 47.5625 5.09375 \nQ 40.234375 -1.421875 26.90625 -1.421875 \nQ 22.3125 -1.421875 17.546875 -0.640625 \nQ 12.796875 0.140625 7.71875 1.703125 \nL 7.71875 11.625 \nQ 12.109375 9.234375 16.796875 8.0625 \nQ 21.484375 6.890625 26.703125 6.890625 \nQ 35.15625 6.890625 40.078125 11.328125 \nQ 45.015625 15.765625 45.015625 23.390625 \nQ 45.015625 31 40.078125 35.4375 \nQ 35.15625 39.890625 26.703125 39.890625 \nQ 22.75 39.890625 18.8125 39.015625 \nQ 14.890625 38.140625 10.796875 36.28125 \nz\n\" id=\"DejaVuSans-53\"/>\n      </defs>\n      <g transform=\"translate(72.299876 242.5884)scale(0.1 -0.1)\">\n       <use xlink:href=\"#DejaVuSans-53\"/>\n       <use x=\"63.623047\" xlink:href=\"#DejaVuSans-48\"/>\n      </g>\n     </g>\n    </g>\n    <g id=\"xtick_3\">\n     <g id=\"line2d_3\">\n      <g>\n       <use style=\"stroke:#000000;stroke-width:0.8;\" x=\"123.587996\" xlink:href=\"#m2c06c9389d\" y=\"227.989963\"/>\n      </g>\n     </g>\n     <g id=\"text_3\">\n      <!-- 100 -->\n      <defs>\n       <path d=\"M 12.40625 8.296875 \nL 28.515625 8.296875 \nL 28.515625 63.921875 \nL 10.984375 60.40625 \nL 10.984375 69.390625 \nL 28.421875 72.90625 \nL 38.28125 72.90625 \nL 38.28125 8.296875 \nL 54.390625 8.296875 \nL 54.390625 0 \nL 12.40625 0 \nz\n\" id=\"DejaVuSans-49\"/>\n      </defs>\n      <g transform=\"translate(114.044246 242.5884)scale(0.1 -0.1)\">\n       <use xlink:href=\"#DejaVuSans-49\"/>\n       <use x=\"63.623047\" xlink:href=\"#DejaVuSans-48\"/>\n       <use x=\"127.246094\" xlink:href=\"#DejaVuSans-48\"/>\n      </g>\n     </g>\n    </g>\n    <g id=\"xtick_4\">\n     <g id=\"line2d_4\">\n      <g>\n       <use style=\"stroke:#000000;stroke-width:0.8;\" x=\"168.513616\" xlink:href=\"#m2c06c9389d\" y=\"227.989963\"/>\n      </g>\n     </g>\n     <g id=\"text_4\">\n      <!-- 150 -->\n      <g transform=\"translate(158.969866 242.5884)scale(0.1 -0.1)\">\n       <use xlink:href=\"#DejaVuSans-49\"/>\n       <use x=\"63.623047\" xlink:href=\"#DejaVuSans-53\"/>\n       <use x=\"127.246094\" xlink:href=\"#DejaVuSans-48\"/>\n      </g>\n     </g>\n    </g>\n    <g id=\"xtick_5\">\n     <g id=\"line2d_5\">\n      <g>\n       <use style=\"stroke:#000000;stroke-width:0.8;\" x=\"213.439236\" xlink:href=\"#m2c06c9389d\" y=\"227.989963\"/>\n      </g>\n     </g>\n     <g id=\"text_5\">\n      <!-- 200 -->\n      <defs>\n       <path d=\"M 19.1875 8.296875 \nL 53.609375 8.296875 \nL 53.609375 0 \nL 7.328125 0 \nL 7.328125 8.296875 \nQ 12.9375 14.109375 22.625 23.890625 \nQ 32.328125 33.6875 34.8125 36.53125 \nQ 39.546875 41.84375 41.421875 45.53125 \nQ 43.3125 49.21875 43.3125 52.78125 \nQ 43.3125 58.59375 39.234375 62.25 \nQ 35.15625 65.921875 28.609375 65.921875 \nQ 23.96875 65.921875 18.8125 64.3125 \nQ 13.671875 62.703125 7.8125 59.421875 \nL 7.8125 69.390625 \nQ 13.765625 71.78125 18.9375 73 \nQ 24.125 74.21875 28.421875 74.21875 \nQ 39.75 74.21875 46.484375 68.546875 \nQ 53.21875 62.890625 53.21875 53.421875 \nQ 53.21875 48.921875 51.53125 44.890625 \nQ 49.859375 40.875 45.40625 35.40625 \nQ 44.1875 33.984375 37.640625 27.21875 \nQ 31.109375 20.453125 19.1875 8.296875 \nz\n\" id=\"DejaVuSans-50\"/>\n      </defs>\n      <g transform=\"translate(203.895486 242.5884)scale(0.1 -0.1)\">\n       <use xlink:href=\"#DejaVuSans-50\"/>\n       <use x=\"63.623047\" xlink:href=\"#DejaVuSans-48\"/>\n       <use x=\"127.246094\" xlink:href=\"#DejaVuSans-48\"/>\n      </g>\n     </g>\n    </g>\n   </g>\n   <g id=\"matplotlib.axis_2\">\n    <g id=\"ytick_1\">\n     <g id=\"line2d_6\">\n      <defs>\n       <path d=\"M 0 0 \nL -3.5 0 \n\" id=\"m16ddeefe23\" style=\"stroke:#000000;stroke-width:0.8;\"/>\n      </defs>\n      <g>\n       <use style=\"stroke:#000000;stroke-width:0.8;\" x=\"33.2875\" xlink:href=\"#m16ddeefe23\" y=\"10.999219\"/>\n      </g>\n     </g>\n     <g id=\"text_6\">\n      <!-- 0 -->\n      <g transform=\"translate(19.925 14.798438)scale(0.1 -0.1)\">\n       <use xlink:href=\"#DejaVuSans-48\"/>\n      </g>\n     </g>\n    </g>\n    <g id=\"ytick_2\">\n     <g id=\"line2d_7\">\n      <g>\n       <use style=\"stroke:#000000;stroke-width:0.8;\" x=\"33.2875\" xlink:href=\"#m16ddeefe23\" y=\"55.924839\"/>\n      </g>\n     </g>\n     <g id=\"text_7\">\n      <!-- 50 -->\n      <g transform=\"translate(13.5625 59.724057)scale(0.1 -0.1)\">\n       <use xlink:href=\"#DejaVuSans-53\"/>\n       <use x=\"63.623047\" xlink:href=\"#DejaVuSans-48\"/>\n      </g>\n     </g>\n    </g>\n    <g id=\"ytick_3\">\n     <g id=\"line2d_8\">\n      <g>\n       <use style=\"stroke:#000000;stroke-width:0.8;\" x=\"33.2875\" xlink:href=\"#m16ddeefe23\" y=\"100.850458\"/>\n      </g>\n     </g>\n     <g id=\"text_8\">\n      <!-- 100 -->\n      <g transform=\"translate(7.2 104.649677)scale(0.1 -0.1)\">\n       <use xlink:href=\"#DejaVuSans-49\"/>\n       <use x=\"63.623047\" xlink:href=\"#DejaVuSans-48\"/>\n       <use x=\"127.246094\" xlink:href=\"#DejaVuSans-48\"/>\n      </g>\n     </g>\n    </g>\n    <g id=\"ytick_4\">\n     <g id=\"line2d_9\">\n      <g>\n       <use style=\"stroke:#000000;stroke-width:0.8;\" x=\"33.2875\" xlink:href=\"#m16ddeefe23\" y=\"145.776078\"/>\n      </g>\n     </g>\n     <g id=\"text_9\">\n      <!-- 150 -->\n      <g transform=\"translate(7.2 149.575297)scale(0.1 -0.1)\">\n       <use xlink:href=\"#DejaVuSans-49\"/>\n       <use x=\"63.623047\" xlink:href=\"#DejaVuSans-53\"/>\n       <use x=\"127.246094\" xlink:href=\"#DejaVuSans-48\"/>\n      </g>\n     </g>\n    </g>\n    <g id=\"ytick_5\">\n     <g id=\"line2d_10\">\n      <g>\n       <use style=\"stroke:#000000;stroke-width:0.8;\" x=\"33.2875\" xlink:href=\"#m16ddeefe23\" y=\"190.701698\"/>\n      </g>\n     </g>\n     <g id=\"text_10\">\n      <!-- 200 -->\n      <g transform=\"translate(7.2 194.500917)scale(0.1 -0.1)\">\n       <use xlink:href=\"#DejaVuSans-50\"/>\n       <use x=\"63.623047\" xlink:href=\"#DejaVuSans-48\"/>\n       <use x=\"127.246094\" xlink:href=\"#DejaVuSans-48\"/>\n      </g>\n     </g>\n    </g>\n   </g>\n   <g id=\"patch_3\">\n    <path d=\"M 33.2875 227.989963 \nL 33.2875 10.549963 \n\" style=\"fill:none;stroke:#000000;stroke-linecap:square;stroke-linejoin:miter;stroke-width:0.8;\"/>\n   </g>\n   <g id=\"patch_4\">\n    <path d=\"M 250.7275 227.989963 \nL 250.7275 10.549963 \n\" style=\"fill:none;stroke:#000000;stroke-linecap:square;stroke-linejoin:miter;stroke-width:0.8;\"/>\n   </g>\n   <g id=\"patch_5\">\n    <path d=\"M 33.2875 227.989963 \nL 250.7275 227.989963 \n\" style=\"fill:none;stroke:#000000;stroke-linecap:square;stroke-linejoin:miter;stroke-width:0.8;\"/>\n   </g>\n   <g id=\"patch_6\">\n    <path d=\"M 33.2875 10.549963 \nL 250.7275 10.549963 \n\" style=\"fill:none;stroke:#000000;stroke-linecap:square;stroke-linejoin:miter;stroke-width:0.8;\"/>\n   </g>\n  </g>\n </g>\n <defs>\n  <clipPath id=\"p8d420cce0d\">\n   <rect height=\"217.44\" width=\"217.44\" x=\"33.2875\" y=\"10.549963\"/>\n  </clipPath>\n </defs>\n</svg>\n",
      "text/plain": "<Figure size 432x288 with 1 Axes>"
     },
     "metadata": {
      "needs_background": "light"
     },
     "output_type": "display_data"
    }
   ],
   "source": [
    "import matplotlib.pyplot as plt\n",
    "\n",
    "# functions to show an image\n",
    "def imshow(img):\n",
    "    npimg = img.numpy()\n",
    "    plt.imshow(np.transpose(npimg, (1, 2, 0)))\n",
    "\n",
    "# get some random training images\n",
    "dataiter = iter(trainset_loader)\n",
    "images, labels = dataiter.next()\n",
    "\n",
    "# show images\n",
    "imshow(torchvision.utils.make_grid(images))\n",
    "# print labels\n",
    "print(' '.join('%5s' % labels[j] for j in range(16)))"
   ]
  },
  {
   "cell_type": "code",
   "execution_count": null,
   "metadata": {},
   "outputs": [],
   "source": [
    "# Use GPU if available, otherwise stick with cpu\n",
    "use_cuda = torch.cuda.is_available()\n",
    "torch.manual_seed(123)\n",
    "device = torch.device(\"cuda\" if use_cuda else \"cpu\")\n",
    "print(device)"
   ]
  },
  {
   "cell_type": "markdown",
   "metadata": {},
   "source": [
    "### Define a Conv Net\n"
   ]
  },
  {
   "cell_type": "code",
   "execution_count": null,
   "metadata": {},
   "outputs": [],
   "source": [
    "class Net(nn.Module):\n",
    "    def __init__(self):\n",
    "        super(Net, self).__init__()\n",
    "        \n",
    "        # Conv2d(in_channels, out_channels, kernel_size, stride=1, padding=0,\n",
    "        #        dilation=1, groups=1, bias=True, padding_mode='zeros')\n",
    "        self.conv1 = nn.Conv2d(1, 10, kernel_size=5)\n",
    "        self.conv2 = nn.Conv2d(10, 20, kernel_size=5)\n",
    "        self.conv2_drop = nn.Dropout2d()\n",
    "        \n",
    "        # Linear(in_features, out_features, bias=True)\n",
    "        self.fc1 = nn.Linear(320, 50)\n",
    "        self.fc2 = nn.Linear(50, 10)\n",
    "        \n",
    "        # MaxPool2d(kernel_size, stride=None, padding=0, dilation=1, return_indices=False, ceil_mode=False)\n",
    "        self.max_pool = nn.MaxPool2d(2)\n",
    "        # ReLU(inplace=False)\n",
    "        self.relu = nn.ReLU()\n",
    "\n",
    "    def forward(self, x):\n",
    "        # Note: the following two ways for max pooling / relu are equivalent.\n",
    "        # 1) with torch.nn.functional:\n",
    "        x = F.relu(F.max_pool2d(self.conv1(x), 2))\n",
    "        # 2) with torch.nn:\n",
    "        x = self.relu(self.max_pool(self.conv2_drop(self.conv2(x))))\n",
    "        x = x.view(-1, 320)\n",
    "        x = F.relu(self.fc1(x))\n",
    "        x = F.dropout(x, training=self.training)\n",
    "        x = self.fc2(x)\n",
    "        return F.log_softmax(x, dim=1)\n",
    "\n",
    "model = Net().to(device)\n",
    "optimizer = optim.SGD(model.parameters(), lr=0.001, momentum=0.9)"
   ]
  },
  {
   "cell_type": "markdown",
   "metadata": {},
   "source": [
    "### Train the network"
   ]
  },
  {
   "cell_type": "code",
   "execution_count": null,
   "metadata": {},
   "outputs": [],
   "source": [
    "from time import time\n",
    "def train(epoch, log_interval=100):\n",
    "    model.train()  # set training mode\n",
    "    iteration = 0\n",
    "    for ep in range(epoch):\n",
    "        start = time()\n",
    "        for batch_idx, (data, target) in enumerate(trainset_loader):\n",
    "            # bring data to the computing device, e.g. GPU\n",
    "            data, target = data.to(device), target.to(device)\n",
    "\n",
    "            # forward pass\n",
    "            output = model(data)\n",
    "            # compute loss: negative log-likelihood\n",
    "            loss = F.nll_loss(output, target)\n",
    "            \n",
    "            # backward pass\n",
    "            # clear the gradients of all tensors being optimized.\n",
    "            optimizer.zero_grad()\n",
    "            # accumulate (i.e. add) the gradients from this forward pass\n",
    "            loss.backward()\n",
    "            # performs a single optimization step (parameter update)\n",
    "            optimizer.step()\n",
    "            \n",
    "            if iteration % log_interval == 0:\n",
    "                print('Train Epoch: {} [{}/{} ({:.0f}%)]\\tLoss: {:.6f}'.format(\n",
    "                    ep, batch_idx * len(data), len(trainset_loader.dataset),\n",
    "                    100. * batch_idx / len(trainset_loader), loss.item()))\n",
    "            iteration += 1\n",
    "            \n",
    "        end = time()\n",
    "        print('{:.2f}s'.format(end-start))\n",
    "        test() # evaluate at the end of epoch"
   ]
  },
  {
   "cell_type": "code",
   "execution_count": null,
   "metadata": {},
   "outputs": [],
   "source": [
    "def test():\n",
    "    model.eval()  # set evaluation mode\n",
    "    test_loss = 0\n",
    "    correct = 0\n",
    "    with torch.no_grad():\n",
    "        for data, target in testset_loader:\n",
    "            data, target = data.to(device), target.to(device)\n",
    "            output = model(data)\n",
    "            test_loss += F.nll_loss(output, target, size_average=False).item() # sum up batch loss\n",
    "            pred = output.max(1, keepdim=True)[1] # get the index of the max log-probability\n",
    "            correct += pred.eq(target.view_as(pred)).sum().item()\n",
    "\n",
    "    test_loss /= len(testset_loader.dataset)\n",
    "    print('\\nTest set: Average loss: {:.4f}, Accuracy: {}/{} ({:.0f}%)\\n'.format(\n",
    "        test_loss, correct, len(testset_loader.dataset),\n",
    "        100. * correct / len(testset_loader.dataset)))"
   ]
  },
  {
   "cell_type": "code",
   "execution_count": null,
   "metadata": {},
   "outputs": [],
   "source": [
    "train(5)  # train 5 epochs should get you to about 97% accuracy"
   ]
  },
  {
   "cell_type": "markdown",
   "metadata": {},
   "source": [
    "## 2. Save the model (model checkpointing)\n",
    "\n",
    "Now we have trained a model! Obviously we do not want to retrain the model everytime we want to use it. Plus if you are training a super big model, you probably want to save checkpoint periodically so that you can always fall back to the last checkpoint in case something bad happened or you simply want to test models at different training iterations.\n",
    "\n",
    "Model checkpointing is fairly simple in PyTorch. First, we define a helper function that can save a model to the disk"
   ]
  },
  {
   "cell_type": "code",
   "execution_count": null,
   "metadata": {},
   "outputs": [],
   "source": [
    "def save_checkpoint(checkpoint_path, model, optimizer):\n",
    "    # state_dict: a Python dictionary object that:\n",
    "    # - for a model, maps each layer to its parameter tensor;\n",
    "    # - for an optimizer, contains info about the optimizer’s states and hyperparameters used.\n",
    "    state = {\n",
    "        'state_dict': model.state_dict(),\n",
    "        'optimizer' : optimizer.state_dict()}\n",
    "    torch.save(state, checkpoint_path)\n",
    "    print('model saved to %s' % checkpoint_path)\n",
    "    \n",
    "def load_checkpoint(checkpoint_path, model, optimizer):\n",
    "    state = torch.load(checkpoint_path)\n",
    "    model.load_state_dict(state['state_dict'])\n",
    "    optimizer.load_state_dict(state['optimizer'])\n",
    "    print('model loaded from %s' % checkpoint_path)"
   ]
  },
  {
   "cell_type": "code",
   "execution_count": null,
   "metadata": {},
   "outputs": [],
   "source": [
    "# create a brand new model\n",
    "model = Net().to(device)\n",
    "optimizer = optim.SGD(model.parameters(), lr=0.001, momentum=0.9)\n",
    "# Testing -- you should get a pretty poor performance since the model hasn't learned anything yet.\n",
    "test()"
   ]
  },
  {
   "cell_type": "markdown",
   "metadata": {},
   "source": [
    "### Define a training loop with model checkpointing"
   ]
  },
  {
   "cell_type": "code",
   "execution_count": null,
   "metadata": {},
   "outputs": [],
   "source": [
    "def train_save(epoch, save_interval, log_interval=100):\n",
    "    model.train()  # set training mode\n",
    "    iteration = 0\n",
    "    for ep in range(epoch):\n",
    "        for batch_idx, (data, target) in enumerate(trainset_loader):\n",
    "            data, target = data.to(device), target.to(device)\n",
    "            optimizer.zero_grad()\n",
    "            output = model(data)\n",
    "            loss = F.nll_loss(output, target)\n",
    "            loss.backward()\n",
    "            optimizer.step()\n",
    "            if iteration % log_interval == 0:\n",
    "                print('Train Epoch: {} [{}/{} ({:.0f}%)]\\tLoss: {:.6f}'.format(\n",
    "                    ep, batch_idx * len(data), len(trainset_loader.dataset),\n",
    "                    100. * batch_idx / len(trainset_loader), loss.item()))\n",
    "            # different from before: saving model checkpoints\n",
    "            if iteration % save_interval == 0 and iteration > 0:\n",
    "                save_checkpoint('mnist-%i.pth' % iteration, model, optimizer)\n",
    "            iteration += 1\n",
    "        test()\n",
    "    \n",
    "    # save the final model\n",
    "    save_checkpoint('mnist-%i.pth' % iteration, model, optimizer)"
   ]
  },
  {
   "cell_type": "code",
   "execution_count": null,
   "metadata": {},
   "outputs": [],
   "source": [
    "train_save(5, save_interval=500, log_interval=100)"
   ]
  },
  {
   "cell_type": "code",
   "execution_count": null,
   "metadata": {},
   "outputs": [],
   "source": [
    "# create a new model\n",
    "model = Net().to(device)\n",
    "optimizer = optim.SGD(model.parameters(), lr=0.001, momentum=0.9)\n",
    "# load from the final checkpoint\n",
    "load_checkpoint('mnist-4690.pth', model, optimizer)\n",
    "# should give you the final model accuracy\n",
    "test()"
   ]
  },
  {
   "cell_type": "markdown",
   "metadata": {},
   "source": [
    "## 3. Fine-tune a model\n",
    "\n",
    "Sometimes you want to fine-tune a pretrained model instead of training a model from scratch. For example, if you want to train a model on a new dataset that contains natural images. To achieve the best performance, you can start with a model that's fully trained on ImageNet and fine-tune the model.\n",
    "\n",
    "Finetuning a model in PyTorch is super easy! First, let's find out what we saved in a checkpoint"
   ]
  },
  {
   "cell_type": "code",
   "execution_count": null,
   "metadata": {},
   "outputs": [],
   "source": [
    "# What's in a state dict?\n",
    "print(model.state_dict().keys())"
   ]
  },
  {
   "cell_type": "markdown",
   "metadata": {},
   "source": [
    "### Finetune the fc layers\n",
    "\n",
    "Now say we want to load the conv layers from the checkpoint and train the fc layers. We can simply load a subset of the state dict with the selected names"
   ]
  },
  {
   "cell_type": "code",
   "execution_count": null,
   "metadata": {},
   "outputs": [],
   "source": [
    "checkpoint = torch.load('mnist-4690.pth')\n",
    "states_to_load = {}\n",
    "for name, param in checkpoint['state_dict'].items():\n",
    "    if name.startswith('conv'):\n",
    "        # only load the conv layers\n",
    "        states_to_load[name] = param\n",
    "print(\"Number of parameter variables to load:\", len(states_to_load))\n",
    "\n",
    "# Construct a new state_dict in which the layers we want\n",
    "# to import from the checkpoint is updated with the parameters\n",
    "# from the checkpoint\n",
    "model = Net().to(device)\n",
    "model_state = model.state_dict()\n",
    "print(\"Number of parameter variables in the model:\", len(model_state))\n",
    "model_state.update(states_to_load)\n",
    "        \n",
    "model.load_state_dict(model_state)\n",
    "optimizer = optim.SGD(model.parameters(), lr=0.001, momentum=0.9)"
   ]
  },
  {
   "cell_type": "code",
   "execution_count": null,
   "metadata": {},
   "outputs": [],
   "source": [
    "test() # without fine-tuning.\n",
    "\n",
    "train(1)  # training 1 epoch will get you to 93%!\n",
    "# As a comparison, training from scratch for 1 epoch gets about ~80% test accuracy."
   ]
  },
  {
   "cell_type": "markdown",
   "metadata": {},
   "source": [
    "### Import pretrained weights in a different model\n",
    "\n",
    "We can even use the pretrained conv layers in a different model."
   ]
  },
  {
   "cell_type": "code",
   "execution_count": null,
   "metadata": {},
   "outputs": [],
   "source": [
    "class SmallNet(nn.Module):\n",
    "    def __init__(self):\n",
    "        super(SmallNet, self).__init__()\n",
    "        # same conv layers\n",
    "        self.conv1 = nn.Conv2d(1, 10, kernel_size=5)\n",
    "        self.conv2 = nn.Conv2d(10, 20, kernel_size=5)\n",
    "        self.conv2_drop = nn.Dropout2d()\n",
    "        # fewer FC layers\n",
    "        self.fc1 = nn.Linear(320, 10)\n",
    "\n",
    "    def forward(self, x):\n",
    "        x = F.relu(F.max_pool2d(self.conv1(x), 2))\n",
    "        x = F.relu(F.max_pool2d(self.conv2_drop(self.conv2(x)), 2))\n",
    "        x = x.view(-1, 320)\n",
    "        x = self.fc1(x)\n",
    "        return F.log_softmax(x, dim=1)\n",
    "\n",
    "model = SmallNet().to(device)\n",
    "optimizer = optim.SGD(model.parameters(), lr=0.001, momentum=0.9)"
   ]
  },
  {
   "cell_type": "code",
   "execution_count": null,
   "metadata": {},
   "outputs": [],
   "source": [
    "checkpoint = torch.load('mnist-4690.pth')\n",
    "states_to_load = {}\n",
    "for name, param in checkpoint['state_dict'].items():\n",
    "    if name.startswith('conv'):\n",
    "        states_to_load[name] = param\n",
    "\n",
    "# Construct a new state dict in which the layers we want\n",
    "# to import from the checkpoint is update with the parameters\n",
    "# from the checkpoint\n",
    "model_state = model.state_dict()\n",
    "model_state.update(states_to_load)\n",
    "        \n",
    "test()\n",
    "\n",
    "model.load_state_dict(model_state)"
   ]
  },
  {
   "cell_type": "code",
   "execution_count": null,
   "metadata": {},
   "outputs": [],
   "source": [
    "train(1)  # training 1 epoch will get you to ~93%!"
   ]
  },
  {
   "cell_type": "markdown",
   "metadata": {},
   "source": [
    "### Clean up your code with nn.Sequential"
   ]
  },
  {
   "cell_type": "code",
   "execution_count": null,
   "metadata": {},
   "outputs": [],
   "source": [
    "class NetSeq(nn.Module):\n",
    "    def __init__(self):\n",
    "        super(NetSeq, self).__init__()\n",
    "\n",
    "        # conv layers: feature extractor\n",
    "        self.conv_layers = nn.Sequential(\n",
    "            nn.Conv2d(1, 10, kernel_size=5),\n",
    "            nn.MaxPool2d(2),\n",
    "            nn.ReLU(),\n",
    "            nn.Conv2d(10, 20, kernel_size=5),\n",
    "            nn.Dropout2d(),\n",
    "            nn.MaxPool2d(2),\n",
    "            nn.ReLU()\n",
    "        )\n",
    "        \n",
    "        # fc layers: classifier\n",
    "        self.fc_layers = nn.Sequential(\n",
    "            nn.Linear(320, 50),\n",
    "            nn.ReLU(),\n",
    "            nn.Dropout(),\n",
    "            nn.Linear(50, 10),\n",
    "        )\n",
    "\n",
    "    def forward(self, x):\n",
    "        x = self.conv_layers(x)\n",
    "        x = x.view(-1, 320)\n",
    "        x = self.fc_layers(x)\n",
    "        return F.log_softmax(x, dim=1)\n",
    "\n",
    "model = NetSeq().to(device)\n",
    "optimizer = optim.SGD(model.parameters(), lr=0.001, momentum=0.9)"
   ]
  },
  {
   "cell_type": "code",
   "execution_count": null,
   "metadata": {},
   "outputs": [],
   "source": [
    "train(5)"
   ]
  }
 ],
 "metadata": {
  "kernelspec": {
   "display_name": "Python 3",
   "language": "python",
   "name": "python3"
  },
  "language_info": {
   "codemirror_mode": {
    "name": "ipython",
    "version": 3
   },
   "file_extension": ".py",
   "mimetype": "text/x-python",
   "name": "python",
   "nbconvert_exporter": "python",
   "pygments_lexer": "ipython3",
   "version": "3.7.6-final"
  }
 },
 "nbformat": 4,
 "nbformat_minor": 1
}