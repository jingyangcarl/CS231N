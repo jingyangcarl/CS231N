{
 "cells": [
  {
   "cell_type": "code",
   "execution_count": 1,
   "metadata": {},
   "outputs": [],
   "source": [
    "%matplotlib inline"
   ]
  },
  {
   "cell_type": "markdown",
   "execution_count": null,
   "metadata": {},
   "outputs": [],
   "source": [
    "## PyTorch Basics\n",
    "### What is PyTorch?\n",
    "It is a **replacement for NumPy** to use the power of GPUs, and a **deep learning research platform** that provides maximum flexibility and speed ([source](https://pytorch.org/tutorials/beginner/blitz/tensor_tutorial.html#sphx-glr-beginner-blitz-tensor-tutorial-py)).\n",
    "\n",
    "You can create a [PyTorch tensor](https://pytorch.org/docs/stable/tensors.html) in a similary way that you create a NumPy ndarray:"
   ]
  },
  {
   "cell_type": "code",
   "execution_count": 2,
   "metadata": {},
   "outputs": [
    {
     "name": "stdout",
     "output_type": "stream",
     "text": "torch version: 1.4.0\n\nCreate a zero ndarray in NumPy:\n[[0. 0. 0.]\n [0. 0. 0.]]\n\nCreate a zero tensor in PyTorch:\ntensor([[0., 0., 0.],\n        [0., 0., 0.]])\n"
    }
   ],
   "source": [
    "import numpy as np\n",
    "import torch\n",
    "print(\"torch version:\", torch.__version__) # please use pytorch 1.0\n",
    "\n",
    "print('\\nCreate a zero ndarray in NumPy:')\n",
    "zero_np = np.zeros([2, 3])\n",
    "print(zero_np)\n",
    "print('\\nCreate a zero tensor in PyTorch:')\n",
    "zero_pt = torch.zeros([2,3])\n",
    "print(zero_pt)"
   ]
  },
  {
   "cell_type": "markdown",
   "execution_count": null,
   "metadata": {},
   "outputs": [],
   "source": [
    "You can index into the tensor the same way you index a ndarray:"
   ]
  },
  {
   "cell_type": "code",
   "execution_count": 3,
   "metadata": {},
   "outputs": [
    {
     "name": "stdout",
     "output_type": "stream",
     "text": "numpy: zero_np[0,1]: 0.0\t(type: <class 'numpy.float64'>)\ntorch: zero_pt[0,1]: tensor(0.)\t(type: <class 'torch.Tensor'> / shape: torch.Size([]))\n       zero_pt[0,1].item(): 0.0\t(type: <class 'float'>)\n"
    }
   ],
   "source": [
    "print(\"numpy: zero_np[0,1]: {}\\t(type: {})\".format(str(zero_np[0,1]), type(zero_np[0,1])))\n",
    "print(\"torch: zero_pt[0,1]: {}\\t(type: {} / shape: {})\".format(str(zero_pt[0,1]), type(zero_pt[0,1]), zero_pt[0,1].shape))\n",
    "# Use \"item()\" to get a Python number from a single-valued tensor.\n",
    "print(\"       zero_pt[0,1].item(): {}\\t(type: {})\".format(zero_pt[0,1].item(), type(zero_pt[0,1].item())))"
   ]
  },
  {
   "cell_type": "markdown",
   "execution_count": null,
   "metadata": {},
   "outputs": [],
   "source": [
    "A ndarray can be turned into a tensor, and vice versa:"
   ]
  },
  {
   "cell_type": "code",
   "execution_count": 4,
   "metadata": {},
   "outputs": [
    {
     "name": "stdout",
     "output_type": "stream",
     "text": "Turn a ndarray into a tensor with \"torch.tensor()\":\ntensor([[0., 0., 0.],\n        [0., 0., 0.]], dtype=torch.float64)\nor \"torch.from_numpy():\"\ntensor([[0., 0., 0.],\n        [0., 0., 0.]], dtype=torch.float64)\n\nTurn a tensor into ndarray with \".numpy()\":\n[[0. 0. 0.]\n [0. 0. 0.]]\n<class 'numpy.ndarray'>\n"
    }
   ],
   "source": [
    "print('Turn a ndarray into a tensor with \"torch.tensor()\":')\n",
    "zero_pt_from_np = torch.tensor(zero_np)\n",
    "print(zero_pt_from_np)\n",
    "print('or \"torch.from_numpy():\"')\n",
    "zero_pt_from_np = torch.from_numpy(zero_np)\n",
    "print(zero_pt_from_np)\n",
    "\n",
    "print('\\nTurn a tensor into ndarray with \".numpy()\":')\n",
    "zero_np_from_pt = zero_pt.numpy()\n",
    "print(zero_np_from_pt)\n",
    "print(type(zero_np_from_pt))"
   ]
  },
  {
   "cell_type": "markdown",
   "execution_count": null,
   "metadata": {},
   "outputs": [],
   "source": [
    "The design of PyTorch allows it to better utilize GPUs. Upon creation, a PyTorch tensor resides on the CPU. You can move a tensor across devices using `.to()`:"
   ]
  },
  {
   "cell_type": "code",
   "execution_count": 5,
   "metadata": {},
   "outputs": [
    {
     "name": "stdout",
     "output_type": "stream",
     "text": "Initial device:\t'cpu'\n"
    }
   ],
   "source": [
    "t = torch.randn(2)\n",
    "print(\"Initial device:\\t'{}'\".format(t.device))"
   ]
  },
  {
   "cell_type": "code",
   "execution_count": 6,
   "metadata": {},
   "outputs": [
    {
     "name": "stdout",
     "output_type": "stream",
     "text": "Move to gpu:\t'cuda:0'\n"
    }
   ],
   "source": [
    "t = t.to('cuda:0')\n",
    "print(\"Move to gpu:\\t'{}'\".format(t.device))"
   ]
  },
  {
   "cell_type": "code",
   "execution_count": 7,
   "metadata": {},
   "outputs": [
    {
     "name": "stdout",
     "output_type": "stream",
     "text": "Back to cpu:\t'cpu'\n"
    },
    {
     "data": {
      "text/plain": "array([-0.60195076,  1.6155752 ], dtype=float32)"
     },
     "execution_count": 7,
     "metadata": {},
     "output_type": "execute_result"
    }
   ],
   "source": [
    "t = t.to('cpu')\n",
    "print(\"Back to cpu:\\t'{}'\".format(t.device))\n",
    "# Why bother?\n",
    "t.numpy()"
   ]
  },
  {
   "cell_type": "markdown",
   "execution_count": null,
   "metadata": {},
   "outputs": [],
   "source": [
    "\n",
    "Training an MNIST Classifier\n",
    "=====\n",
    "## Custom Dataset, Model Checkpointing, and Fine-tune"
   ]
  },
  {
   "cell_type": "code",
   "execution_count": 8,
   "metadata": {},
   "outputs": [],
   "source": [
    "import torch.nn as nn            # containing various building blocks for your neural networks\n",
    "import torch.optim as optim      # implementing various optimization algorithms\n",
    "import torch.nn.functional as F  # a lower level (compared to torch.nn) interface\n",
    "\n",
    "# torchvision: popular datasets, model architectures, and common image transformations for computer vision.\n",
    "import torchvision\n",
    "# transforms: transformations useful for image processing\n",
    "import torchvision.transforms as transforms\n",
    "\n",
    "from torch.utils.data import Dataset, DataLoader\n",
    "\n",
    "import glob\n",
    "import os.path as osp\n",
    "import numpy as np\n",
    "from PIL import Image"
   ]
  },
  {
   "cell_type": "markdown",
   "execution_count": null,
   "metadata": {},
   "outputs": [],
   "source": [
    "## 1. Custom Dataset\n",
    "PyTorch has many built-in datasets such as MNIST and CIFAR. In this tutorial, we demonstrate how to write your own dataset by implementing a custom MNIST dataset class. Use [this link](https://github.com/myleott/mnist_png/blob/master/mnist_png.tar.gz?raw=true) to download the mnist png dataset.\n",
    "\n",
    "If you are on GCloud, you can run these commands:\n",
    "\n",
    "`wget https://github.com/myleott/mnist_png/blob/master/mnist_png.tar.gz?raw=true`\n",
    "\n",
    "`mv mnist_png.tar.gz?raw=true mnist_png.tar.gz`\n",
    "\n",
    "`tar -xzf mnist_png.tar.gz`"
   ]
  },
  {
   "cell_type": "code",
   "execution_count": 9,
   "metadata": {},
   "outputs": [],
   "source": [
    "class MNIST(Dataset):\n",
    "    \"\"\"\n",
    "    A customized data loader for MNIST.\n",
    "    \"\"\"\n",
    "    def __init__(self,\n",
    "                 root,\n",
    "                 transform=None,\n",
    "                 preload=False):\n",
    "        \"\"\" Intialize the MNIST dataset\n",
    "        \n",
    "        Args:\n",
    "            - root: root directory of the dataset\n",
    "            - tranform: a custom tranform function\n",
    "            - preload: if preload the dataset into memory\n",
    "        \"\"\"\n",
    "        self.images = None\n",
    "        self.labels = None\n",
    "        self.filenames = []\n",
    "        self.root = root\n",
    "        self.transform = transform\n",
    "\n",
    "        # read filenames\n",
    "        for i in range(10):\n",
    "            filenames = glob.glob(osp.join(root, str(i), '*.png'))\n",
    "            for fn in filenames:\n",
    "                self.filenames.append((fn, i)) # (filename, label) pair\n",
    "                \n",
    "        # if preload dataset into memory\n",
    "        if preload:\n",
    "            self._preload()\n",
    "            \n",
    "        self.len = len(self.filenames)\n",
    "                              \n",
    "    def _preload(self):\n",
    "        \"\"\"\n",
    "        Preload dataset to memory\n",
    "        \"\"\"\n",
    "        self.labels = []\n",
    "        self.images = []\n",
    "        for image_fn, label in self.filenames:            \n",
    "            # load images\n",
    "            image = Image.open(image_fn)\n",
    "            self.images.append(image.copy())\n",
    "            # avoid too many opened files bug\n",
    "            image.close()\n",
    "            self.labels.append(label)\n",
    "\n",
    "    # probably the most important to customize.\n",
    "    def __getitem__(self, index):\n",
    "        \"\"\" Get a sample from the dataset\n",
    "        \"\"\"\n",
    "        if self.images is not None:\n",
    "            # If dataset is preloaded\n",
    "            image = self.images[index]\n",
    "            label = self.labels[index]\n",
    "        else:\n",
    "            # If on-demand data loading\n",
    "            image_fn, label = self.filenames[index]\n",
    "            image = Image.open(image_fn)\n",
    "            \n",
    "        # May use transform function to transform samples\n",
    "        # e.g., random crop, whitening\n",
    "        if self.transform is not None:\n",
    "            image = self.transform(image)\n",
    "        # return image and label\n",
    "        return image, label\n",
    "\n",
    "    def __len__(self):\n",
    "        \"\"\"\n",
    "        Total number of samples in the dataset\n",
    "        \"\"\"\n",
    "        return self.len"
   ]
  },
  {
   "cell_type": "code",
   "execution_count": 10,
   "metadata": {},
   "outputs": [],
   "source": [
    "# Create the MNIST dataset. \n",
    "# transforms.ToTensor() automatically converts PIL images to\n",
    "# torch tensors with range [0, 1]\n",
    "trainset = MNIST(\n",
    "    root='mnist_png/training',\n",
    "    preload=True, transform=transforms.ToTensor(),\n",
    ")\n",
    "\n",
    "# Use the torch dataloader to iterate through the dataset\n",
    "# We want the dataset to be shuffled during training.\n",
    "trainset_loader = DataLoader(trainset, batch_size=64, shuffle=True, num_workers=1)\n",
    "\n",
    "# Load the testset\n",
    "testset = MNIST(\n",
    "    root='mnist_png/testing',\n",
    "    preload=True, transform=transforms.ToTensor(),\n",
    ")\n",
    "# Use the torch dataloader to iterate through the dataset\n",
    "testset_loader = DataLoader(testset, batch_size=1000, shuffle=False, num_workers=1)"
   ]
  },
  {
   "cell_type": "code",
   "execution_count": 11,
   "metadata": {},
   "outputs": [
    {
     "name": "stdout",
     "output_type": "stream",
     "text": "60000\n10000\n"
    }
   ],
   "source": [
    "print(len(trainset)) # len = 60000\n",
    "print(len(testset))  # len = 10000"
   ]
  },
  {
   "cell_type": "markdown",
   "execution_count": null,
   "metadata": {},
   "outputs": [],
   "source": [
    "### Visualize the dataset"
   ]
  },
  {
   "cell_type": "code",
   "execution_count": 12,
   "metadata": {},
   "outputs": [
    {
     "name": "stdout",
     "output_type": "stream",
     "text": "tensor(6) tensor(9) tensor(1) tensor(5) tensor(2) tensor(7) tensor(2) tensor(9) tensor(5) tensor(9) tensor(5) tensor(5) tensor(0) tensor(0) tensor(0) tensor(9)\n"
    },
    {
     "data": {
      "image/png": "[encoded data removed]",
      "image/svg+xml": "<?xml version=\"1.0\" encoding=\"utf-8\" standalone=\"no\"?>\n<!DOCTYPE svg PUBLIC \"-//W3C//DTD SVG 1.1//EN\"\n  \"http://www.w3.org/Graphics/SVG/1.1/DTD/svg11.dtd\">\n<!-- Created with matplotlib (https://matplotlib.org/) -->\n<svg height=\"251.868088pt\" version=\"1.1\" viewBox=\"0 0 257.9275 251.868088\" width=\"257.9275pt\" xmlns=\"http://www.w3.org/2000/svg\" xmlns:xlink=\"http://www.w3.org/1999/xlink\">\n <defs>\n  <style type=\"text/css\">\n*{stroke-linecap:butt;stroke-linejoin:round;}\n  </style>\n </defs>\n <g id=\"figure_1\">\n  <g id=\"patch_1\">\n   <path d=\"M 0 251.868088 \nL 257.9275 251.868088 \nL 257.9275 0 \nL 0 0 \nz\n\" style=\"fill:none;\"/>\n  </g>\n  <g id=\"axes_1\">\n   <g id=\"patch_2\">\n    <path d=\"M 33.2875 227.989963 \nL 250.7275 227.989963 \nL 250.7275 10.549963 \nL 33.2875 10.549963 \nz\n\" style=\"fill:#ffffff;\"/>\n   </g>\n   <g clip-path=\"url(#p2b8f1e6ee1)\">\n    <image height=\"218\" id=\"image2ef9b5240c\" transform=\"scale(1 -1)translate(0 -218)\" width=\"218\" x=\"33.2875\" xlink:href=\"data:image/png;base64,\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\" y=\"-9.989963\"/>\n   </g>\n   <g id=\"matplotlib.axis_1\">\n    <g id=\"xtick_1\">\n     <g id=\"line2d_1\">\n      <defs>\n       <path d=\"M 0 0 \nL 0 3.5 \n\" id=\"m4e09066027\" style=\"stroke:#000000;stroke-width:0.8;\"/>\n      </defs>\n      <g>\n       <use style=\"stroke:#000000;stroke-width:0.8;\" x=\"33.736756\" xlink:href=\"#m4e09066027\" y=\"227.989963\"/>\n      </g>\n     </g>\n     <g id=\"text_1\">\n      <!-- 0 -->\n      <defs>\n       <path d=\"M 31.78125 66.40625 \nQ 24.171875 66.40625 20.328125 58.90625 \nQ 16.5 51.421875 16.5 36.375 \nQ 16.5 21.390625 20.328125 13.890625 \nQ 24.171875 6.390625 31.78125 6.390625 \nQ 39.453125 6.390625 43.28125 13.890625 \nQ 47.125 21.390625 47.125 36.375 \nQ 47.125 51.421875 43.28125 58.90625 \nQ 39.453125 66.40625 31.78125 66.40625 \nz\nM 31.78125 74.21875 \nQ 44.046875 74.21875 50.515625 64.515625 \nQ 56.984375 54.828125 56.984375 36.375 \nQ 56.984375 17.96875 50.515625 8.265625 \nQ 44.046875 -1.421875 31.78125 -1.421875 \nQ 19.53125 -1.421875 13.0625 8.265625 \nQ 6.59375 17.96875 6.59375 36.375 \nQ 6.59375 54.828125 13.0625 64.515625 \nQ 19.53125 74.21875 31.78125 74.21875 \nz\n\" id=\"DejaVuSans-48\"/>\n      </defs>\n      <g transform=\"translate(30.555506 242.5884)scale(0.1 -0.1)\">\n       <use xlink:href=\"#DejaVuSans-48\"/>\n      </g>\n     </g>\n    </g>\n    <g id=\"xtick_2\">\n     <g id=\"line2d_2\">\n      <g>\n       <use style=\"stroke:#000000;stroke-width:0.8;\" x=\"78.662376\" xlink:href=\"#m4e09066027\" y=\"227.989963\"/>\n      </g>\n     </g>\n     <g id=\"text_2\">\n      <!-- 50 -->\n      <defs>\n       <path d=\"M 10.796875 72.90625 \nL 49.515625 72.90625 \nL 49.515625 64.59375 \nL 19.828125 64.59375 \nL 19.828125 46.734375 \nQ 21.96875 47.46875 24.109375 47.828125 \nQ 26.265625 48.1875 28.421875 48.1875 \nQ 40.625 48.1875 47.75 41.5 \nQ 54.890625 34.8125 54.890625 23.390625 \nQ 54.890625 11.625 47.5625 5.09375 \nQ 40.234375 -1.421875 26.90625 -1.421875 \nQ 22.3125 -1.421875 17.546875 -0.640625 \nQ 12.796875 0.140625 7.71875 1.703125 \nL 7.71875 11.625 \nQ 12.109375 9.234375 16.796875 8.0625 \nQ 21.484375 6.890625 26.703125 6.890625 \nQ 35.15625 6.890625 40.078125 11.328125 \nQ 45.015625 15.765625 45.015625 23.390625 \nQ 45.015625 31 40.078125 35.4375 \nQ 35.15625 39.890625 26.703125 39.890625 \nQ 22.75 39.890625 18.8125 39.015625 \nQ 14.890625 38.140625 10.796875 36.28125 \nz\n\" id=\"DejaVuSans-53\"/>\n      </defs>\n      <g transform=\"translate(72.299876 242.5884)scale(0.1 -0.1)\">\n       <use xlink:href=\"#DejaVuSans-53\"/>\n       <use x=\"63.623047\" xlink:href=\"#DejaVuSans-48\"/>\n      </g>\n     </g>\n    </g>\n    <g id=\"xtick_3\">\n     <g id=\"line2d_3\">\n      <g>\n       <use style=\"stroke:#000000;stroke-width:0.8;\" x=\"123.587996\" xlink:href=\"#m4e09066027\" y=\"227.989963\"/>\n      </g>\n     </g>\n     <g id=\"text_3\">\n      <!-- 100 -->\n      <defs>\n       <path d=\"M 12.40625 8.296875 \nL 28.515625 8.296875 \nL 28.515625 63.921875 \nL 10.984375 60.40625 \nL 10.984375 69.390625 \nL 28.421875 72.90625 \nL 38.28125 72.90625 \nL 38.28125 8.296875 \nL 54.390625 8.296875 \nL 54.390625 0 \nL 12.40625 0 \nz\n\" id=\"DejaVuSans-49\"/>\n      </defs>\n      <g transform=\"translate(114.044246 242.5884)scale(0.1 -0.1)\">\n       <use xlink:href=\"#DejaVuSans-49\"/>\n       <use x=\"63.623047\" xlink:href=\"#DejaVuSans-48\"/>\n       <use x=\"127.246094\" xlink:href=\"#DejaVuSans-48\"/>\n      </g>\n     </g>\n    </g>\n    <g id=\"xtick_4\">\n     <g id=\"line2d_4\">\n      <g>\n       <use style=\"stroke:#000000;stroke-width:0.8;\" x=\"168.513616\" xlink:href=\"#m4e09066027\" y=\"227.989963\"/>\n      </g>\n     </g>\n     <g id=\"text_4\">\n      <!-- 150 -->\n      <g transform=\"translate(158.969866 242.5884)scale(0.1 -0.1)\">\n       <use xlink:href=\"#DejaVuSans-49\"/>\n       <use x=\"63.623047\" xlink:href=\"#DejaVuSans-53\"/>\n       <use x=\"127.246094\" xlink:href=\"#DejaVuSans-48\"/>\n      </g>\n     </g>\n    </g>\n    <g id=\"xtick_5\">\n     <g id=\"line2d_5\">\n      <g>\n       <use style=\"stroke:#000000;stroke-width:0.8;\" x=\"213.439236\" xlink:href=\"#m4e09066027\" y=\"227.989963\"/>\n      </g>\n     </g>\n     <g id=\"text_5\">\n      <!-- 200 -->\n      <defs>\n       <path d=\"M 19.1875 8.296875 \nL 53.609375 8.296875 \nL 53.609375 0 \nL 7.328125 0 \nL 7.328125 8.296875 \nQ 12.9375 14.109375 22.625 23.890625 \nQ 32.328125 33.6875 34.8125 36.53125 \nQ 39.546875 41.84375 41.421875 45.53125 \nQ 43.3125 49.21875 43.3125 52.78125 \nQ 43.3125 58.59375 39.234375 62.25 \nQ 35.15625 65.921875 28.609375 65.921875 \nQ 23.96875 65.921875 18.8125 64.3125 \nQ 13.671875 62.703125 7.8125 59.421875 \nL 7.8125 69.390625 \nQ 13.765625 71.78125 18.9375 73 \nQ 24.125 74.21875 28.421875 74.21875 \nQ 39.75 74.21875 46.484375 68.546875 \nQ 53.21875 62.890625 53.21875 53.421875 \nQ 53.21875 48.921875 51.53125 44.890625 \nQ 49.859375 40.875 45.40625 35.40625 \nQ 44.1875 33.984375 37.640625 27.21875 \nQ 31.109375 20.453125 19.1875 8.296875 \nz\n\" id=\"DejaVuSans-50\"/>\n      </defs>\n      <g transform=\"translate(203.895486 242.5884)scale(0.1 -0.1)\">\n       <use xlink:href=\"#DejaVuSans-50\"/>\n       <use x=\"63.623047\" xlink:href=\"#DejaVuSans-48\"/>\n       <use x=\"127.246094\" xlink:href=\"#DejaVuSans-48\"/>\n      </g>\n     </g>\n    </g>\n   </g>\n   <g id=\"matplotlib.axis_2\">\n    <g id=\"ytick_1\">\n     <g id=\"line2d_6\">\n      <defs>\n       <path d=\"M 0 0 \nL -3.5 0 \n\" id=\"m7898fe8775\" style=\"stroke:#000000;stroke-width:0.8;\"/>\n      </defs>\n      <g>\n       <use style=\"stroke:#000000;stroke-width:0.8;\" x=\"33.2875\" xlink:href=\"#m7898fe8775\" y=\"10.999219\"/>\n      </g>\n     </g>\n     <g id=\"text_6\">\n      <!-- 0 -->\n      <g transform=\"translate(19.925 14.798438)scale(0.1 -0.1)\">\n       <use xlink:href=\"#DejaVuSans-48\"/>\n      </g>\n     </g>\n    </g>\n    <g id=\"ytick_2\">\n     <g id=\"line2d_7\">\n      <g>\n       <use style=\"stroke:#000000;stroke-width:0.8;\" x=\"33.2875\" xlink:href=\"#m7898fe8775\" y=\"55.924839\"/>\n      </g>\n     </g>\n     <g id=\"text_7\">\n      <!-- 50 -->\n      <g transform=\"translate(13.5625 59.724057)scale(0.1 -0.1)\">\n       <use xlink:href=\"#DejaVuSans-53\"/>\n       <use x=\"63.623047\" xlink:href=\"#DejaVuSans-48\"/>\n      </g>\n     </g>\n    </g>\n    <g id=\"ytick_3\">\n     <g id=\"line2d_8\">\n      <g>\n       <use style=\"stroke:#000000;stroke-width:0.8;\" x=\"33.2875\" xlink:href=\"#m7898fe8775\" y=\"100.850458\"/>\n      </g>\n     </g>\n     <g id=\"text_8\">\n      <!-- 100 -->\n      <g transform=\"translate(7.2 104.649677)scale(0.1 -0.1)\">\n       <use xlink:href=\"#DejaVuSans-49\"/>\n       <use x=\"63.623047\" xlink:href=\"#DejaVuSans-48\"/>\n       <use x=\"127.246094\" xlink:href=\"#DejaVuSans-48\"/>\n      </g>\n     </g>\n    </g>\n    <g id=\"ytick_4\">\n     <g id=\"line2d_9\">\n      <g>\n       <use style=\"stroke:#000000;stroke-width:0.8;\" x=\"33.2875\" xlink:href=\"#m7898fe8775\" y=\"145.776078\"/>\n      </g>\n     </g>\n     <g id=\"text_9\">\n      <!-- 150 -->\n      <g transform=\"translate(7.2 149.575297)scale(0.1 -0.1)\">\n       <use xlink:href=\"#DejaVuSans-49\"/>\n       <use x=\"63.623047\" xlink:href=\"#DejaVuSans-53\"/>\n       <use x=\"127.246094\" xlink:href=\"#DejaVuSans-48\"/>\n      </g>\n     </g>\n    </g>\n    <g id=\"ytick_5\">\n     <g id=\"line2d_10\">\n      <g>\n       <use style=\"stroke:#000000;stroke-width:0.8;\" x=\"33.2875\" xlink:href=\"#m7898fe8775\" y=\"190.701698\"/>\n      </g>\n     </g>\n     <g id=\"text_10\">\n      <!-- 200 -->\n      <g transform=\"translate(7.2 194.500917)scale(0.1 -0.1)\">\n       <use xlink:href=\"#DejaVuSans-50\"/>\n       <use x=\"63.623047\" xlink:href=\"#DejaVuSans-48\"/>\n       <use x=\"127.246094\" xlink:href=\"#DejaVuSans-48\"/>\n      </g>\n     </g>\n    </g>\n   </g>\n   <g id=\"patch_3\">\n    <path d=\"M 33.2875 227.989963 \nL 33.2875 10.549963 \n\" style=\"fill:none;stroke:#000000;stroke-linecap:square;stroke-linejoin:miter;stroke-width:0.8;\"/>\n   </g>\n   <g id=\"patch_4\">\n    <path d=\"M 250.7275 227.989963 \nL 250.7275 10.549963 \n\" style=\"fill:none;stroke:#000000;stroke-linecap:square;stroke-linejoin:miter;stroke-width:0.8;\"/>\n   </g>\n   <g id=\"patch_5\">\n    <path d=\"M 33.2875 227.989963 \nL 250.7275 227.989963 \n\" style=\"fill:none;stroke:#000000;stroke-linecap:square;stroke-linejoin:miter;stroke-width:0.8;\"/>\n   </g>\n   <g id=\"patch_6\">\n    <path d=\"M 33.2875 10.549963 \nL 250.7275 10.549963 \n\" style=\"fill:none;stroke:#000000;stroke-linecap:square;stroke-linejoin:miter;stroke-width:0.8;\"/>\n   </g>\n  </g>\n </g>\n <defs>\n  <clipPath id=\"p2b8f1e6ee1\">\n   <rect height=\"217.44\" width=\"217.44\" x=\"33.2875\" y=\"10.549963\"/>\n  </clipPath>\n </defs>\n</svg>\n",
      "text/plain": "<Figure size 432x288 with 1 Axes>"
     },
     "metadata": {
      "needs_background": "light"
     },
     "output_type": "display_data"
    }
   ],
   "source": [
    "import matplotlib.pyplot as plt\n",
    "\n",
    "# functions to show an image\n",
    "def imshow(img):\n",
    "    npimg = img.numpy()\n",
    "    plt.imshow(np.transpose(npimg, (1, 2, 0)))\n",
    "\n",
    "# get some random training images\n",
    "dataiter = iter(trainset_loader)\n",
    "images, labels = dataiter.next()\n",
    "\n",
    "# show images\n",
    "imshow(torchvision.utils.make_grid(images))\n",
    "# print labels\n",
    "print(' '.join('%5s' % labels[j] for j in range(16)))"
   ]
  },
  {
   "cell_type": "code",
   "execution_count": 13,
   "metadata": {},
   "outputs": [
    {
     "name": "stdout",
     "output_type": "stream",
     "text": "cuda\n"
    }
   ],
   "source": [
    "# Use GPU if available, otherwise stick with cpu\n",
    "use_cuda = torch.cuda.is_available()\n",
    "torch.manual_seed(123)\n",
    "device = torch.device(\"cuda\" if use_cuda else \"cpu\")\n",
    "print(device)"
   ]
  },
  {
   "cell_type": "markdown",
   "execution_count": null,
   "metadata": {},
   "outputs": [],
   "source": [
    "### Define a Conv Net\n"
   ]
  },
  {
   "cell_type": "code",
   "execution_count": 14,
   "metadata": {},
   "outputs": [],
   "source": [
    "class Net(nn.Module):\n",
    "    def __init__(self):\n",
    "        super(Net, self).__init__()\n",
    "        \n",
    "        # Conv2d(in_channels, out_channels, kernel_size, stride=1, padding=0,\n",
    "        #        dilation=1, groups=1, bias=True, padding_mode='zeros')\n",
    "        self.conv1 = nn.Conv2d(1, 10, kernel_size=5)\n",
    "        self.conv2 = nn.Conv2d(10, 20, kernel_size=5)\n",
    "        self.conv2_drop = nn.Dropout2d()\n",
    "        \n",
    "        # Linear(in_features, out_features, bias=True)\n",
    "        self.fc1 = nn.Linear(320, 50)\n",
    "        self.fc2 = nn.Linear(50, 10)\n",
    "        \n",
    "        # MaxPool2d(kernel_size, stride=None, padding=0, dilation=1, return_indices=False, ceil_mode=False)\n",
    "        self.max_pool = nn.MaxPool2d(2)\n",
    "        # ReLU(inplace=False)\n",
    "        self.relu = nn.ReLU()\n",
    "\n",
    "    def forward(self, x):\n",
    "        # Note: the following two ways for max pooling / relu are equivalent.\n",
    "        # 1) with torch.nn.functional:\n",
    "        x = F.relu(F.max_pool2d(self.conv1(x), 2))\n",
    "        # 2) with torch.nn:\n",
    "        x = self.relu(self.max_pool(self.conv2_drop(self.conv2(x))))\n",
    "        x = x.view(-1, 320)\n",
    "        x = F.relu(self.fc1(x))\n",
    "        x = F.dropout(x, training=self.training)\n",
    "        x = self.fc2(x)\n",
    "        return F.log_softmax(x, dim=1)\n",
    "\n",
    "model = Net().to(device)\n",
    "optimizer = optim.SGD(model.parameters(), lr=0.001, momentum=0.9)"
   ]
  },
  {
   "cell_type": "markdown",
   "execution_count": null,
   "metadata": {},
   "outputs": [],
   "source": [
    "### Train the network"
   ]
  },
  {
   "cell_type": "code",
   "execution_count": 15,
   "metadata": {},
   "outputs": [],
   "source": [
    "from time import time\n",
    "def train(epoch, log_interval=100):\n",
    "    model.train()  # set training mode\n",
    "    iteration = 0\n",
    "    for ep in range(epoch):\n",
    "        start = time()\n",
    "        for batch_idx, (data, target) in enumerate(trainset_loader):\n",
    "            # bring data to the computing device, e.g. GPU\n",
    "            data, target = data.to(device), target.to(device)\n",
    "\n",
    "            # forward pass\n",
    "            output = model(data)\n",
    "            # compute loss: negative log-likelihood\n",
    "            loss = F.nll_loss(output, target)\n",
    "            \n",
    "            # backward pass\n",
    "            # clear the gradients of all tensors being optimized.\n",
    "            optimizer.zero_grad()\n",
    "            # accumulate (i.e. add) the gradients from this forward pass\n",
    "            loss.backward()\n",
    "            # performs a single optimization step (parameter update)\n",
    "            optimizer.step()\n",
    "            \n",
    "            if iteration % log_interval == 0:\n",
    "                print('Train Epoch: {} [{}/{} ({:.0f}%)]\\tLoss: {:.6f}'.format(\n",
    "                    ep, batch_idx * len(data), len(trainset_loader.dataset),\n",
    "                    100. * batch_idx / len(trainset_loader), loss.item()))\n",
    "            iteration += 1\n",
    "            \n",
    "        end = time()\n",
    "        print('{:.2f}s'.format(end-start))\n",
    "        test() # evaluate at the end of epoch"
   ]
  },
  {
   "cell_type": "code",
   "execution_count": 16,
   "metadata": {},
   "outputs": [],
   "source": [
    "def test():\n",
    "    model.eval()  # set evaluation mode\n",
    "    test_loss = 0\n",
    "    correct = 0\n",
    "    with torch.no_grad():\n",
    "        for data, target in testset_loader:\n",
    "            data, target = data.to(device), target.to(device)\n",
    "            output = model(data)\n",
    "            test_loss += F.nll_loss(output, target, size_average=False).item() # sum up batch loss\n",
    "            pred = output.max(1, keepdim=True)[1] # get the index of the max log-probability\n",
    "            correct += pred.eq(target.view_as(pred)).sum().item()\n",
    "\n",
    "    test_loss /= len(testset_loader.dataset)\n",
    "    print('\\nTest set: Average loss: {:.4f}, Accuracy: {}/{} ({:.0f}%)\\n'.format(\n",
    "        test_loss, correct, len(testset_loader.dataset),\n",
    "        100. * correct / len(testset_loader.dataset)))"
   ]
  },
  {
   "cell_type": "code",
   "execution_count": 17,
   "metadata": {},
   "outputs": [
    {
     "name": "stdout",
     "output_type": "stream",
     "text": "Train Epoch: 0 [0/60000 (0%)]\tLoss: 2.301700\nTrain Epoch: 0 [6400/60000 (11%)]\tLoss: 2.299039\nTrain Epoch: 0 [12800/60000 (21%)]\tLoss: 2.294198\nTrain Epoch: 0 [19200/60000 (32%)]\tLoss: 2.273997\nTrain Epoch: 0 [25600/60000 (43%)]\tLoss: 2.211532\nTrain Epoch: 0 [32000/60000 (53%)]\tLoss: 2.015963\nTrain Epoch: 0 [38400/60000 (64%)]\tLoss: 1.858510\nTrain Epoch: 0 [44800/60000 (75%)]\tLoss: 1.647792\nTrain Epoch: 0 [51200/60000 (85%)]\tLoss: 1.530122\nTrain Epoch: 0 [57600/60000 (96%)]\tLoss: 1.155803\n5.79s\n/home/ICT2000/jyang/anaconda3/envs/cs231n/lib/python3.7/site-packages/torch/nn/_reduction.py:43: UserWarning: size_average and reduce args will be deprecated, please use reduction='sum' instead.\n  warnings.warn(warning.format(ret))\n\nTest set: Average loss: 0.7174, Accuracy: 8277/10000 (83%)\n\nTrain Epoch: 1 [3968/60000 (7%)]\tLoss: 0.337109\nTrain Epoch: 1 [10368/60000 (17%)]\tLoss: 0.339974\nTrain Epoch: 1 [16768/60000 (28%)]\tLoss: 0.306884\nTrain Epoch: 1 [23168/60000 (39%)]\tLoss: 0.473628\nTrain Epoch: 1 [29568/60000 (49%)]\tLoss: 0.350153\nTrain Epoch: 1 [35968/60000 (60%)]\tLoss: 0.371431\nTrain Epoch: 1 [42368/60000 (71%)]\tLoss: 0.380039\nTrain Epoch: 1 [48768/60000 (81%)]\tLoss: 0.281833\nTrain Epoch: 1 [55168/60000 (92%)]\tLoss: 0.331210\n5.45s\n\nTest set: Average loss: 0.2474, Accuracy: 9256/10000 (93%)\n\nTrain Epoch: 2 [1536/60000 (3%)]\tLoss: 0.322594\nTrain Epoch: 2 [7936/60000 (13%)]\tLoss: 0.187329\nTrain Epoch: 2 [14336/60000 (24%)]\tLoss: 0.202660\nTrain Epoch: 2 [20736/60000 (35%)]\tLoss: 0.125649\nTrain Epoch: 2 [27136/60000 (45%)]\tLoss: 0.213674\nTrain Epoch: 2 [33536/60000 (56%)]\tLoss: 0.207041\nTrain Epoch: 2 [39936/60000 (67%)]\tLoss: 0.160927\nTrain Epoch: 2 [46336/60000 (77%)]\tLoss: 0.091295\nTrain Epoch: 2 [52736/60000 (88%)]\tLoss: 0.259324\nTrain Epoch: 2 [59136/60000 (99%)]\tLoss: 0.087683\n5.81s\n\nTest set: Average loss: 0.1602, Accuracy: 9512/10000 (95%)\n\nTrain Epoch: 3 [5504/60000 (9%)]\tLoss: 0.149411\nTrain Epoch: 3 [11904/60000 (20%)]\tLoss: 0.206333\nTrain Epoch: 3 [18304/60000 (30%)]\tLoss: 0.057851\nTrain Epoch: 3 [24704/60000 (41%)]\tLoss: 0.191380\nTrain Epoch: 3 [31104/60000 (52%)]\tLoss: 0.155356\nTrain Epoch: 3 [37504/60000 (62%)]\tLoss: 0.105176\nTrain Epoch: 3 [43904/60000 (73%)]\tLoss: 0.089923\nTrain Epoch: 3 [50304/60000 (84%)]\tLoss: 0.117529\nTrain Epoch: 3 [56704/60000 (94%)]\tLoss: 0.053253\n5.70s\n\nTest set: Average loss: 0.1240, Accuracy: 9624/10000 (96%)\n\nTrain Epoch: 4 [3072/60000 (5%)]\tLoss: 0.139400\nTrain Epoch: 4 [9472/60000 (16%)]\tLoss: 0.200725\nTrain Epoch: 4 [15872/60000 (26%)]\tLoss: 0.141615\nTrain Epoch: 4 [22272/60000 (37%)]\tLoss: 0.077122\nTrain Epoch: 4 [28672/60000 (48%)]\tLoss: 0.057836\nTrain Epoch: 4 [35072/60000 (58%)]\tLoss: 0.072277\nTrain Epoch: 4 [41472/60000 (69%)]\tLoss: 0.048564\nTrain Epoch: 4 [47872/60000 (80%)]\tLoss: 0.127681\nTrain Epoch: 4 [54272/60000 (90%)]\tLoss: 0.114568\n5.70s\n\nTest set: Average loss: 0.1080, Accuracy: 9679/10000 (97%)\n\n"
    }
   ],
   "source": [
    "train(5)  # train 5 epochs should get you to about 97% accuracy"
   ]
  },
  {
   "cell_type": "markdown",
   "execution_count": null,
   "metadata": {},
   "outputs": [],
   "source": [
    "## 2. Save the model (model checkpointing)\n",
    "\n",
    "Now we have trained a model! Obviously we do not want to retrain the model everytime we want to use it. Plus if you are training a super big model, you probably want to save checkpoint periodically so that you can always fall back to the last checkpoint in case something bad happened or you simply want to test models at different training iterations.\n",
    "\n",
    "Model checkpointing is fairly simple in PyTorch. First, we define a helper function that can save a model to the disk"
   ]
  },
  {
   "cell_type": "code",
   "execution_count": 18,
   "metadata": {},
   "outputs": [],
   "source": [
    "def save_checkpoint(checkpoint_path, model, optimizer):\n",
    "    # state_dict: a Python dictionary object that:\n",
    "    # - for a model, maps each layer to its parameter tensor;\n",
    "    # - for an optimizer, contains info about the optimizer’s states and hyperparameters used.\n",
    "    state = {\n",
    "        'state_dict': model.state_dict(),\n",
    "        'optimizer' : optimizer.state_dict()}\n",
    "    torch.save(state, checkpoint_path)\n",
    "    print('model saved to %s' % checkpoint_path)\n",
    "    \n",
    "def load_checkpoint(checkpoint_path, model, optimizer):\n",
    "    state = torch.load(checkpoint_path)\n",
    "    model.load_state_dict(state['state_dict'])\n",
    "    optimizer.load_state_dict(state['optimizer'])\n",
    "    print('model loaded from %s' % checkpoint_path)"
   ]
  },
  {
   "cell_type": "code",
   "execution_count": 19,
   "metadata": {},
   "outputs": [
    {
     "name": "stdout",
     "output_type": "stream",
     "text": "\nTest set: Average loss: 2.3039, Accuracy: 1009/10000 (10%)\n\n"
    }
   ],
   "source": [
    "# create a brand new model\n",
    "model = Net().to(device)\n",
    "optimizer = optim.SGD(model.parameters(), lr=0.001, momentum=0.9)\n",
    "# Testing -- you should get a pretty poor performance since the model hasn't learned anything yet.\n",
    "test()"
   ]
  },
  {
   "cell_type": "markdown",
   "execution_count": null,
   "metadata": {},
   "outputs": [],
   "source": [
    "### Define a training loop with model checkpointing"
   ]
  },
  {
   "cell_type": "code",
   "execution_count": 20,
   "metadata": {},
   "outputs": [],
   "source": [
    "def train_save(epoch, save_interval, log_interval=100):\n",
    "    model.train()  # set training mode\n",
    "    iteration = 0\n",
    "    for ep in range(epoch):\n",
    "        for batch_idx, (data, target) in enumerate(trainset_loader):\n",
    "            data, target = data.to(device), target.to(device)\n",
    "            optimizer.zero_grad()\n",
    "            output = model(data)\n",
    "            loss = F.nll_loss(output, target)\n",
    "            loss.backward()\n",
    "            optimizer.step()\n",
    "            if iteration % log_interval == 0:\n",
    "                print('Train Epoch: {} [{}/{} ({:.0f}%)]\\tLoss: {:.6f}'.format(\n",
    "                    ep, batch_idx * len(data), len(trainset_loader.dataset),\n",
    "                    100. * batch_idx / len(trainset_loader), loss.item()))\n",
    "            # different from before: saving model checkpoints\n",
    "            if iteration % save_interval == 0 and iteration > 0:\n",
    "                save_checkpoint('mnist-%i.pth' % iteration, model, optimizer)\n",
    "            iteration += 1\n",
    "        test()\n",
    "    \n",
    "    # save the final model\n",
    "    save_checkpoint('mnist_png/model/mnist-%i.pth' % iteration, model, optimizer)"
   ]
  },
  {
   "cell_type": "code",
   "execution_count": 21,
   "metadata": {},
   "outputs": [
    {
     "name": "stdout",
     "output_type": "stream",
     "text": "Train Epoch: 0 [0/60000 (0%)]\tLoss: 2.306768\nTrain Epoch: 0 [6400/60000 (11%)]\tLoss: 2.313655\nTrain Epoch: 0 [12800/60000 (21%)]\tLoss: 2.295408\nTrain Epoch: 0 [19200/60000 (32%)]\tLoss: 2.279395\nTrain Epoch: 0 [25600/60000 (43%)]\tLoss: 2.274772\nTrain Epoch: 0 [32000/60000 (53%)]\tLoss: 2.231983\nmodel saved to mnist-500.pth\nTrain Epoch: 0 [38400/60000 (64%)]\tLoss: 2.037754\nTrain Epoch: 0 [44800/60000 (75%)]\tLoss: 1.936771\nTrain Epoch: 0 [51200/60000 (85%)]\tLoss: 1.415530\nTrain Epoch: 0 [57600/60000 (96%)]\tLoss: 1.131462\n\nTest set: Average loss: 0.7502, Accuracy: 8158/10000 (82%)\n\nTrain Epoch: 1 [3968/60000 (7%)]\tLoss: 0.568031\nmodel saved to mnist-1000.pth\nTrain Epoch: 1 [10368/60000 (17%)]\tLoss: 0.454538\nTrain Epoch: 1 [16768/60000 (28%)]\tLoss: 0.423624\nTrain Epoch: 1 [23168/60000 (39%)]\tLoss: 0.342617\nTrain Epoch: 1 [29568/60000 (49%)]\tLoss: 0.298212\nTrain Epoch: 1 [35968/60000 (60%)]\tLoss: 0.314421\nmodel saved to mnist-1500.pth\nTrain Epoch: 1 [42368/60000 (71%)]\tLoss: 0.349437\nTrain Epoch: 1 [48768/60000 (81%)]\tLoss: 0.218759\nTrain Epoch: 1 [55168/60000 (92%)]\tLoss: 0.186861\n\nTest set: Average loss: 0.2615, Accuracy: 9203/10000 (92%)\n\nTrain Epoch: 2 [1536/60000 (3%)]\tLoss: 0.138077\nTrain Epoch: 2 [7936/60000 (13%)]\tLoss: 0.284509\nmodel saved to mnist-2000.pth\nTrain Epoch: 2 [14336/60000 (24%)]\tLoss: 0.179413\nTrain Epoch: 2 [20736/60000 (35%)]\tLoss: 0.311082\nTrain Epoch: 2 [27136/60000 (45%)]\tLoss: 0.149467\nTrain Epoch: 2 [33536/60000 (56%)]\tLoss: 0.126325\nTrain Epoch: 2 [39936/60000 (67%)]\tLoss: 0.161489\nmodel saved to mnist-2500.pth\nTrain Epoch: 2 [46336/60000 (77%)]\tLoss: 0.223408\nTrain Epoch: 2 [52736/60000 (88%)]\tLoss: 0.158876\nTrain Epoch: 2 [59136/60000 (99%)]\tLoss: 0.111970\n\nTest set: Average loss: 0.1719, Accuracy: 9469/10000 (95%)\n\nTrain Epoch: 3 [5504/60000 (9%)]\tLoss: 0.088640\nTrain Epoch: 3 [11904/60000 (20%)]\tLoss: 0.278571\nmodel saved to mnist-3000.pth\nTrain Epoch: 3 [18304/60000 (30%)]\tLoss: 0.142959\nTrain Epoch: 3 [24704/60000 (41%)]\tLoss: 0.094813\nTrain Epoch: 3 [31104/60000 (52%)]\tLoss: 0.207816\nTrain Epoch: 3 [37504/60000 (62%)]\tLoss: 0.171676\nTrain Epoch: 3 [43904/60000 (73%)]\tLoss: 0.352305\nmodel saved to mnist-3500.pth\nTrain Epoch: 3 [50304/60000 (84%)]\tLoss: 0.081064\nTrain Epoch: 3 [56704/60000 (94%)]\tLoss: 0.057343\n\nTest set: Average loss: 0.1318, Accuracy: 9606/10000 (96%)\n\nTrain Epoch: 4 [3072/60000 (5%)]\tLoss: 0.147252\nTrain Epoch: 4 [9472/60000 (16%)]\tLoss: 0.119862\nTrain Epoch: 4 [15872/60000 (26%)]\tLoss: 0.119331\nmodel saved to mnist-4000.pth\nTrain Epoch: 4 [22272/60000 (37%)]\tLoss: 0.088329\nTrain Epoch: 4 [28672/60000 (48%)]\tLoss: 0.242323\nTrain Epoch: 4 [35072/60000 (58%)]\tLoss: 0.184826\nTrain Epoch: 4 [41472/60000 (69%)]\tLoss: 0.065142\nTrain Epoch: 4 [47872/60000 (80%)]\tLoss: 0.042667\nmodel saved to mnist-4500.pth\nTrain Epoch: 4 [54272/60000 (90%)]\tLoss: 0.083769\n\nTest set: Average loss: 0.1072, Accuracy: 9668/10000 (97%)\n\nmodel saved to mnist-4690.pth\n"
    }
   ],
   "source": [
    "train_save(5, save_interval=500, log_interval=100)"
   ]
  },
  {
   "cell_type": "code",
   "execution_count": 22,
   "metadata": {},
   "outputs": [
    {
     "name": "stdout",
     "output_type": "stream",
     "text": "model loaded from mnist-4690.pth\n\nTest set: Average loss: 0.1072, Accuracy: 9668/10000 (97%)\n\n"
    }
   ],
   "source": [
    "# create a new model\n",
    "model = Net().to(device)\n",
    "optimizer = optim.SGD(model.parameters(), lr=0.001, momentum=0.9)\n",
    "# load from the final checkpoint\n",
    "load_checkpoint('mnist_png/model/mnist-4690.pth', model, optimizer)\n",
    "# should give you the final model accuracy\n",
    "test()"
   ]
  },
  {
   "cell_type": "markdown",
   "execution_count": null,
   "metadata": {},
   "outputs": [],
   "source": [
    "## 3. Fine-tune a model\n",
    "\n",
    "Sometimes you want to fine-tune a pretrained model instead of training a model from scratch. For example, if you want to train a model on a new dataset that contains natural images. To achieve the best performance, you can start with a model that's fully trained on ImageNet and fine-tune the model.\n",
    "\n",
    "Finetuning a model in PyTorch is super easy! First, let's find out what we saved in a checkpoint"
   ]
  },
  {
   "cell_type": "code",
   "execution_count": 23,
   "metadata": {},
   "outputs": [
    {
     "name": "stdout",
     "output_type": "stream",
     "text": "odict_keys(['conv1.weight', 'conv1.bias', 'conv2.weight', 'conv2.bias', 'fc1.weight', 'fc1.bias', 'fc2.weight', 'fc2.bias'])\n"
    }
   ],
   "source": [
    "# What's in a state dict?\n",
    "print(model.state_dict().keys())"
   ]
  },
  {
   "cell_type": "markdown",
   "execution_count": null,
   "metadata": {},
   "outputs": [],
   "source": [
    "### Finetune the fc layers\n",
    "\n",
    "Now say we want to load the conv layers from the checkpoint and train the fc layers. We can simply load a subset of the state dict with the selected names"
   ]
  },
  {
   "cell_type": "code",
   "execution_count": 24,
   "metadata": {},
   "outputs": [
    {
     "name": "stdout",
     "output_type": "stream",
     "text": "Number of parameter variables to load: 4\nNumber of parameter variables in the model: 8\n"
    }
   ],
   "source": [
    "checkpoint = torch.load('mnist_png/model/mnist-4690.pth')\n",
    "states_to_load = {}\n",
    "for name, param in checkpoint['state_dict'].items():\n",
    "    if name.startswith('conv'):\n",
    "        # only load the conv layers\n",
    "        states_to_load[name] = param\n",
    "print(\"Number of parameter variables to load:\", len(states_to_load))\n",
    "\n",
    "# Construct a new state_dict in which the layers we want\n",
    "# to import from the checkpoint is updated with the parameters\n",
    "# from the checkpoint\n",
    "model = Net().to(device)\n",
    "model_state = model.state_dict()\n",
    "print(\"Number of parameter variables in the model:\", len(model_state))\n",
    "model_state.update(states_to_load)\n",
    "        \n",
    "model.load_state_dict(model_state)\n",
    "optimizer = optim.SGD(model.parameters(), lr=0.001, momentum=0.9)"
   ]
  },
  {
   "cell_type": "code",
   "execution_count": 25,
   "metadata": {},
   "outputs": [
    {
     "name": "stdout",
     "output_type": "stream",
     "text": "\nTest set: Average loss: 2.5656, Accuracy: 1098/10000 (11%)\n\nTrain Epoch: 0 [0/60000 (0%)]\tLoss: 3.375962\nTrain Epoch: 0 [6400/60000 (11%)]\tLoss: 1.402410\nTrain Epoch: 0 [12800/60000 (21%)]\tLoss: 1.198753\nTrain Epoch: 0 [19200/60000 (32%)]\tLoss: 1.013580\nTrain Epoch: 0 [25600/60000 (43%)]\tLoss: 0.907057\nTrain Epoch: 0 [32000/60000 (53%)]\tLoss: 0.547077\nTrain Epoch: 0 [38400/60000 (64%)]\tLoss: 1.026392\nTrain Epoch: 0 [44800/60000 (75%)]\tLoss: 0.747780\nTrain Epoch: 0 [51200/60000 (85%)]\tLoss: 0.570000\nTrain Epoch: 0 [57600/60000 (96%)]\tLoss: 0.791837\n5.55s\n\nTest set: Average loss: 0.2703, Accuracy: 9281/10000 (93%)\n\n"
    }
   ],
   "source": [
    "test() # without fine-tuning.\n",
    "\n",
    "train(1)  # training 1 epoch will get you to 93%!\n",
    "# As a comparison, training from scratch for 1 epoch gets about ~80% test accuracy."
   ]
  },
  {
   "cell_type": "markdown",
   "execution_count": null,
   "metadata": {},
   "outputs": [],
   "source": [
    "### Import pretrained weights in a different model\n",
    "\n",
    "We can even use the pretrained conv layers in a different model."
   ]
  },
  {
   "cell_type": "code",
   "execution_count": 26,
   "metadata": {},
   "outputs": [],
   "source": [
    "class SmallNet(nn.Module):\n",
    "    def __init__(self):\n",
    "        super(SmallNet, self).__init__()\n",
    "        # same conv layers\n",
    "        self.conv1 = nn.Conv2d(1, 10, kernel_size=5)\n",
    "        self.conv2 = nn.Conv2d(10, 20, kernel_size=5)\n",
    "        self.conv2_drop = nn.Dropout2d()\n",
    "        # fewer FC layers\n",
    "        self.fc1 = nn.Linear(320, 10)\n",
    "\n",
    "    def forward(self, x):\n",
    "        x = F.relu(F.max_pool2d(self.conv1(x), 2))\n",
    "        x = F.relu(F.max_pool2d(self.conv2_drop(self.conv2(x)), 2))\n",
    "        x = x.view(-1, 320)\n",
    "        x = self.fc1(x)\n",
    "        return F.log_softmax(x, dim=1)\n",
    "\n",
    "model = SmallNet().to(device)\n",
    "optimizer = optim.SGD(model.parameters(), lr=0.001, momentum=0.9)"
   ]
  },
  {
   "cell_type": "code",
   "execution_count": 27,
   "metadata": {},
   "outputs": [
    {
     "name": "stdout",
     "output_type": "stream",
     "text": "\nTest set: Average loss: 2.3089, Accuracy: 1006/10000 (10%)\n\n"
    },
    {
     "data": {
      "text/plain": "<All keys matched successfully>"
     },
     "execution_count": 27,
     "metadata": {},
     "output_type": "execute_result"
    }
   ],
   "source": [
    "checkpoint = torch.load('mnist_png/model/mnist-4690.pth')\n",
    "states_to_load = {}\n",
    "for name, param in checkpoint['state_dict'].items():\n",
    "    if name.startswith('conv'):\n",
    "        states_to_load[name] = param\n",
    "\n",
    "# Construct a new state dict in which the layers we want\n",
    "# to import from the checkpoint is update with the parameters\n",
    "# from the checkpoint\n",
    "model_state = model.state_dict()\n",
    "model_state.update(states_to_load)\n",
    "        \n",
    "test()\n",
    "\n",
    "model.load_state_dict(model_state)"
   ]
  },
  {
   "cell_type": "code",
   "execution_count": 28,
   "metadata": {},
   "outputs": [
    {
     "name": "stdout",
     "output_type": "stream",
     "text": "Train Epoch: 0 [0/60000 (0%)]\tLoss: 5.973429\nTrain Epoch: 0 [6400/60000 (11%)]\tLoss: 0.315234\nTrain Epoch: 0 [12800/60000 (21%)]\tLoss: 0.302474\nTrain Epoch: 0 [19200/60000 (32%)]\tLoss: 0.581693\nTrain Epoch: 0 [25600/60000 (43%)]\tLoss: 0.438836\nTrain Epoch: 0 [32000/60000 (53%)]\tLoss: 0.317056\nTrain Epoch: 0 [38400/60000 (64%)]\tLoss: 0.301696\nTrain Epoch: 0 [44800/60000 (75%)]\tLoss: 0.171467\nTrain Epoch: 0 [51200/60000 (85%)]\tLoss: 0.241957\nTrain Epoch: 0 [57600/60000 (96%)]\tLoss: 0.411886\n5.36s\n\nTest set: Average loss: 0.1634, Accuracy: 9519/10000 (95%)\n\n"
    }
   ],
   "source": [
    "train(1)  # training 1 epoch will get you to ~93%!"
   ]
  },
  {
   "cell_type": "markdown",
   "execution_count": null,
   "metadata": {},
   "outputs": [],
   "source": [
    "### Clean up your code with nn.Sequential"
   ]
  },
  {
   "cell_type": "code",
   "execution_count": 29,
   "metadata": {},
   "outputs": [],
   "source": [
    "class NetSeq(nn.Module):\n",
    "    def __init__(self):\n",
    "        super(NetSeq, self).__init__()\n",
    "\n",
    "        # conv layers: feature extractor\n",
    "        self.conv_layers = nn.Sequential(\n",
    "            nn.Conv2d(1, 10, kernel_size=5),\n",
    "            nn.MaxPool2d(2),\n",
    "            nn.ReLU(),\n",
    "            nn.Conv2d(10, 20, kernel_size=5),\n",
    "            nn.Dropout2d(),\n",
    "            nn.MaxPool2d(2),\n",
    "            nn.ReLU()\n",
    "        )\n",
    "        \n",
    "        # fc layers: classifier\n",
    "        self.fc_layers = nn.Sequential(\n",
    "            nn.Linear(320, 50),\n",
    "            nn.ReLU(),\n",
    "            nn.Dropout(),\n",
    "            nn.Linear(50, 10),\n",
    "        )\n",
    "\n",
    "    def forward(self, x):\n",
    "        x = self.conv_layers(x)\n",
    "        x = x.view(-1, 320)\n",
    "        x = self.fc_layers(x)\n",
    "        return F.log_softmax(x, dim=1)\n",
    "\n",
    "model = NetSeq().to(device)\n",
    "optimizer = optim.SGD(model.parameters(), lr=0.001, momentum=0.9)"
   ]
  },
  {
   "cell_type": "code",
   "execution_count": 30,
   "metadata": {},
   "outputs": [
    {
     "name": "stdout",
     "output_type": "stream",
     "text": "Train Epoch: 0 [0/60000 (0%)]\tLoss: 2.295745\nTrain Epoch: 0 [6400/60000 (11%)]\tLoss: 2.286381\nTrain Epoch: 0 [12800/60000 (21%)]\tLoss: 2.282141\nTrain Epoch: 0 [19200/60000 (32%)]\tLoss: 2.277673\nTrain Epoch: 0 [25600/60000 (43%)]\tLoss: 2.203188\nTrain Epoch: 0 [32000/60000 (53%)]\tLoss: 2.105224\nTrain Epoch: 0 [38400/60000 (64%)]\tLoss: 1.885889\nTrain Epoch: 0 [44800/60000 (75%)]\tLoss: 1.895982\nTrain Epoch: 0 [51200/60000 (85%)]\tLoss: 1.279493\nTrain Epoch: 0 [57600/60000 (96%)]\tLoss: 1.309721\n5.40s\n\nTest set: Average loss: 0.7399, Accuracy: 8172/10000 (82%)\n\nTrain Epoch: 1 [3968/60000 (7%)]\tLoss: 0.540987\nTrain Epoch: 1 [10368/60000 (17%)]\tLoss: 0.478880\nTrain Epoch: 1 [16768/60000 (28%)]\tLoss: 0.270216\nTrain Epoch: 1 [23168/60000 (39%)]\tLoss: 0.333618\nTrain Epoch: 1 [29568/60000 (49%)]\tLoss: 0.417044\nTrain Epoch: 1 [35968/60000 (60%)]\tLoss: 0.231883\nTrain Epoch: 1 [42368/60000 (71%)]\tLoss: 0.221281\nTrain Epoch: 1 [48768/60000 (81%)]\tLoss: 0.500678\nTrain Epoch: 1 [55168/60000 (92%)]\tLoss: 0.145730\n5.45s\n\nTest set: Average loss: 0.2342, Accuracy: 9319/10000 (93%)\n\nTrain Epoch: 2 [1536/60000 (3%)]\tLoss: 0.371656\nTrain Epoch: 2 [7936/60000 (13%)]\tLoss: 0.134880\nTrain Epoch: 2 [14336/60000 (24%)]\tLoss: 0.278749\nTrain Epoch: 2 [20736/60000 (35%)]\tLoss: 0.135290\nTrain Epoch: 2 [27136/60000 (45%)]\tLoss: 0.160457\nTrain Epoch: 2 [33536/60000 (56%)]\tLoss: 0.088214\nTrain Epoch: 2 [39936/60000 (67%)]\tLoss: 0.142433\nTrain Epoch: 2 [46336/60000 (77%)]\tLoss: 0.114661\nTrain Epoch: 2 [52736/60000 (88%)]\tLoss: 0.082103\nTrain Epoch: 2 [59136/60000 (99%)]\tLoss: 0.184287\n5.49s\n\nTest set: Average loss: 0.1547, Accuracy: 9536/10000 (95%)\n\nTrain Epoch: 3 [5504/60000 (9%)]\tLoss: 0.084030\nTrain Epoch: 3 [11904/60000 (20%)]\tLoss: 0.121358\nTrain Epoch: 3 [18304/60000 (30%)]\tLoss: 0.148629\nTrain Epoch: 3 [24704/60000 (41%)]\tLoss: 0.144529\nTrain Epoch: 3 [31104/60000 (52%)]\tLoss: 0.150024\nTrain Epoch: 3 [37504/60000 (62%)]\tLoss: 0.312839\nTrain Epoch: 3 [43904/60000 (73%)]\tLoss: 0.142644\nTrain Epoch: 3 [50304/60000 (84%)]\tLoss: 0.082035\nTrain Epoch: 3 [56704/60000 (94%)]\tLoss: 0.084908\n5.63s\n\nTest set: Average loss: 0.1205, Accuracy: 9628/10000 (96%)\n\nTrain Epoch: 4 [3072/60000 (5%)]\tLoss: 0.044340\nTrain Epoch: 4 [9472/60000 (16%)]\tLoss: 0.050102\nTrain Epoch: 4 [15872/60000 (26%)]\tLoss: 0.074606\nTrain Epoch: 4 [22272/60000 (37%)]\tLoss: 0.051655\nTrain Epoch: 4 [28672/60000 (48%)]\tLoss: 0.104835\nTrain Epoch: 4 [35072/60000 (58%)]\tLoss: 0.079787\nTrain Epoch: 4 [41472/60000 (69%)]\tLoss: 0.148375\nTrain Epoch: 4 [47872/60000 (80%)]\tLoss: 0.148926\nTrain Epoch: 4 [54272/60000 (90%)]\tLoss: 0.252807\n5.51s\n\nTest set: Average loss: 0.0959, Accuracy: 9714/10000 (97%)\n\n"
    }
   ],
   "source": [
    "train(5)"
   ]
  },
  {
   "cell_type": "code",
   "execution_count": null,
   "metadata": {},
   "outputs": [],
   "source": []
  }
 ],
 "metadata": {
  "kernelspec": {
   "display_name": "Python 3",
   "language": "python",
   "name": "python3"
  },
  "language_info": {
   "codemirror_mode": {
    "name": "ipython",
    "version": 3
   },
   "file_extension": ".py",
   "mimetype": "text/x-python",
   "name": "python",
   "nbconvert_exporter": "python",
   "pygments_lexer": "ipython3",
   "version": "3.7.6-final"
  }
 },
 "nbformat": 4,
 "nbformat_minor": 1
}